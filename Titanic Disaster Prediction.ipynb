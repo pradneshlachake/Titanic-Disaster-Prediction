{
 "cells": [
  {
   "cell_type": "markdown",
   "id": "17e18f8c",
   "metadata": {
    "papermill": {
     "duration": 0.03146,
     "end_time": "2021-09-27T15:32:23.108249",
     "exception": false,
     "start_time": "2021-09-27T15:32:23.076789",
     "status": "completed"
    },
    "tags": []
   },
   "source": [
    "# Importing Necessary Libraries"
   ]
  },
  {
   "cell_type": "code",
   "execution_count": 1,
   "id": "a669bff2",
   "metadata": {
    "execution": {
     "iopub.execute_input": "2021-09-27T15:32:23.179538Z",
     "iopub.status.busy": "2021-09-27T15:32:23.177753Z",
     "iopub.status.idle": "2021-09-27T15:32:24.762863Z",
     "shell.execute_reply": "2021-09-27T15:32:24.762005Z",
     "shell.execute_reply.started": "2021-09-27T14:54:47.528161Z"
    },
    "papermill": {
     "duration": 1.621557,
     "end_time": "2021-09-27T15:32:24.763056",
     "exception": false,
     "start_time": "2021-09-27T15:32:23.141499",
     "status": "completed"
    },
    "tags": []
   },
   "outputs": [],
   "source": [
    "# Data Analysis\n",
    "import pandas as pd\n",
    "import numpy as np\n",
    "\n",
    "# Data Visualization\n",
    "from matplotlib import pyplot as plt\n",
    "import seaborn as sns\n",
    "\n",
    "# Machine Learning\n",
    "from sklearn.model_selection import train_test_split, KFold, cross_val_score\n",
    "from sklearn.preprocessing import StandardScaler\n",
    "from sklearn.neighbors import KNeighborsClassifier\n",
    "from sklearn.metrics import accuracy_score\n",
    "from sklearn.linear_model import LogisticRegression\n",
    "from sklearn.svm import SVC\n",
    "from sklearn.tree import DecisionTreeClassifier\n",
    "from sklearn.ensemble import RandomForestClassifier\n",
    "from sklearn.naive_bayes import GaussianNB\n",
    "\n",
    "import warnings\n",
    "warnings.filterwarnings('ignore')"
   ]
  },
  {
   "cell_type": "markdown",
   "id": "dc1ba96e",
   "metadata": {
    "papermill": {
     "duration": 0.0319,
     "end_time": "2021-09-27T15:32:24.828476",
     "exception": false,
     "start_time": "2021-09-27T15:32:24.796576",
     "status": "completed"
    },
    "tags": []
   },
   "source": [
    "# Data Loading and Cleaning"
   ]
  },
  {
   "cell_type": "code",
   "execution_count": 2,
   "id": "cbb73548",
   "metadata": {
    "execution": {
     "iopub.execute_input": "2021-09-27T15:32:24.897613Z",
     "iopub.status.busy": "2021-09-27T15:32:24.896979Z",
     "iopub.status.idle": "2021-09-27T15:32:24.953278Z",
     "shell.execute_reply": "2021-09-27T15:32:24.953781Z",
     "shell.execute_reply.started": "2021-09-27T14:54:47.570505Z"
    },
    "papermill": {
     "duration": 0.092167,
     "end_time": "2021-09-27T15:32:24.953969",
     "exception": false,
     "start_time": "2021-09-27T15:32:24.861802",
     "status": "completed"
    },
    "tags": []
   },
   "outputs": [
    {
     "data": {
      "text/html": [
       "<div>\n",
       "<style scoped>\n",
       "    .dataframe tbody tr th:only-of-type {\n",
       "        vertical-align: middle;\n",
       "    }\n",
       "\n",
       "    .dataframe tbody tr th {\n",
       "        vertical-align: top;\n",
       "    }\n",
       "\n",
       "    .dataframe thead th {\n",
       "        text-align: right;\n",
       "    }\n",
       "</style>\n",
       "<table border=\"1\" class=\"dataframe\">\n",
       "  <thead>\n",
       "    <tr style=\"text-align: right;\">\n",
       "      <th></th>\n",
       "      <th>Survived</th>\n",
       "      <th>Pclass</th>\n",
       "      <th>Name</th>\n",
       "      <th>Sex</th>\n",
       "      <th>Age</th>\n",
       "      <th>SibSp</th>\n",
       "      <th>Parch</th>\n",
       "      <th>Ticket</th>\n",
       "      <th>Fare</th>\n",
       "      <th>Cabin</th>\n",
       "      <th>Embarked</th>\n",
       "    </tr>\n",
       "    <tr>\n",
       "      <th>PassengerId</th>\n",
       "      <th></th>\n",
       "      <th></th>\n",
       "      <th></th>\n",
       "      <th></th>\n",
       "      <th></th>\n",
       "      <th></th>\n",
       "      <th></th>\n",
       "      <th></th>\n",
       "      <th></th>\n",
       "      <th></th>\n",
       "      <th></th>\n",
       "    </tr>\n",
       "  </thead>\n",
       "  <tbody>\n",
       "    <tr>\n",
       "      <th>1</th>\n",
       "      <td>0</td>\n",
       "      <td>3</td>\n",
       "      <td>Braund, Mr. Owen Harris</td>\n",
       "      <td>male</td>\n",
       "      <td>22.0</td>\n",
       "      <td>1</td>\n",
       "      <td>0</td>\n",
       "      <td>A/5 21171</td>\n",
       "      <td>7.2500</td>\n",
       "      <td>NaN</td>\n",
       "      <td>S</td>\n",
       "    </tr>\n",
       "    <tr>\n",
       "      <th>2</th>\n",
       "      <td>1</td>\n",
       "      <td>1</td>\n",
       "      <td>Cumings, Mrs. John Bradley (Florence Briggs Th...</td>\n",
       "      <td>female</td>\n",
       "      <td>38.0</td>\n",
       "      <td>1</td>\n",
       "      <td>0</td>\n",
       "      <td>PC 17599</td>\n",
       "      <td>71.2833</td>\n",
       "      <td>C85</td>\n",
       "      <td>C</td>\n",
       "    </tr>\n",
       "    <tr>\n",
       "      <th>3</th>\n",
       "      <td>1</td>\n",
       "      <td>3</td>\n",
       "      <td>Heikkinen, Miss. Laina</td>\n",
       "      <td>female</td>\n",
       "      <td>26.0</td>\n",
       "      <td>0</td>\n",
       "      <td>0</td>\n",
       "      <td>STON/O2. 3101282</td>\n",
       "      <td>7.9250</td>\n",
       "      <td>NaN</td>\n",
       "      <td>S</td>\n",
       "    </tr>\n",
       "    <tr>\n",
       "      <th>4</th>\n",
       "      <td>1</td>\n",
       "      <td>1</td>\n",
       "      <td>Futrelle, Mrs. Jacques Heath (Lily May Peel)</td>\n",
       "      <td>female</td>\n",
       "      <td>35.0</td>\n",
       "      <td>1</td>\n",
       "      <td>0</td>\n",
       "      <td>113803</td>\n",
       "      <td>53.1000</td>\n",
       "      <td>C123</td>\n",
       "      <td>S</td>\n",
       "    </tr>\n",
       "    <tr>\n",
       "      <th>5</th>\n",
       "      <td>0</td>\n",
       "      <td>3</td>\n",
       "      <td>Allen, Mr. William Henry</td>\n",
       "      <td>male</td>\n",
       "      <td>35.0</td>\n",
       "      <td>0</td>\n",
       "      <td>0</td>\n",
       "      <td>373450</td>\n",
       "      <td>8.0500</td>\n",
       "      <td>NaN</td>\n",
       "      <td>S</td>\n",
       "    </tr>\n",
       "  </tbody>\n",
       "</table>\n",
       "</div>"
      ],
      "text/plain": [
       "             Survived  Pclass  \\\n",
       "PassengerId                     \n",
       "1                   0       3   \n",
       "2                   1       1   \n",
       "3                   1       3   \n",
       "4                   1       1   \n",
       "5                   0       3   \n",
       "\n",
       "                                                          Name     Sex   Age  \\\n",
       "PassengerId                                                                    \n",
       "1                                      Braund, Mr. Owen Harris    male  22.0   \n",
       "2            Cumings, Mrs. John Bradley (Florence Briggs Th...  female  38.0   \n",
       "3                                       Heikkinen, Miss. Laina  female  26.0   \n",
       "4                 Futrelle, Mrs. Jacques Heath (Lily May Peel)  female  35.0   \n",
       "5                                     Allen, Mr. William Henry    male  35.0   \n",
       "\n",
       "             SibSp  Parch            Ticket     Fare Cabin Embarked  \n",
       "PassengerId                                                          \n",
       "1                1      0         A/5 21171   7.2500   NaN        S  \n",
       "2                1      0          PC 17599  71.2833   C85        C  \n",
       "3                0      0  STON/O2. 3101282   7.9250   NaN        S  \n",
       "4                1      0            113803  53.1000  C123        S  \n",
       "5                0      0            373450   8.0500   NaN        S  "
      ]
     },
     "execution_count": 2,
     "metadata": {},
     "output_type": "execute_result"
    }
   ],
   "source": [
    "# Loading train data\n",
    "train_df = pd.read_csv('train.csv', index_col='PassengerId')\n",
    "train_df.head()"
   ]
  },
  {
   "cell_type": "code",
   "execution_count": 3,
   "id": "0013e991",
   "metadata": {
    "execution": {
     "iopub.execute_input": "2021-09-27T15:32:25.031095Z",
     "iopub.status.busy": "2021-09-27T15:32:25.030381Z",
     "iopub.status.idle": "2021-09-27T15:32:25.053199Z",
     "shell.execute_reply": "2021-09-27T15:32:25.053828Z",
     "shell.execute_reply.started": "2021-09-27T14:54:47.618878Z"
    },
    "papermill": {
     "duration": 0.064128,
     "end_time": "2021-09-27T15:32:25.054012",
     "exception": false,
     "start_time": "2021-09-27T15:32:24.989884",
     "status": "completed"
    },
    "tags": []
   },
   "outputs": [
    {
     "data": {
      "text/html": [
       "<div>\n",
       "<style scoped>\n",
       "    .dataframe tbody tr th:only-of-type {\n",
       "        vertical-align: middle;\n",
       "    }\n",
       "\n",
       "    .dataframe tbody tr th {\n",
       "        vertical-align: top;\n",
       "    }\n",
       "\n",
       "    .dataframe thead th {\n",
       "        text-align: right;\n",
       "    }\n",
       "</style>\n",
       "<table border=\"1\" class=\"dataframe\">\n",
       "  <thead>\n",
       "    <tr style=\"text-align: right;\">\n",
       "      <th></th>\n",
       "      <th>Pclass</th>\n",
       "      <th>Name</th>\n",
       "      <th>Sex</th>\n",
       "      <th>Age</th>\n",
       "      <th>SibSp</th>\n",
       "      <th>Parch</th>\n",
       "      <th>Ticket</th>\n",
       "      <th>Fare</th>\n",
       "      <th>Cabin</th>\n",
       "      <th>Embarked</th>\n",
       "    </tr>\n",
       "    <tr>\n",
       "      <th>PassengerId</th>\n",
       "      <th></th>\n",
       "      <th></th>\n",
       "      <th></th>\n",
       "      <th></th>\n",
       "      <th></th>\n",
       "      <th></th>\n",
       "      <th></th>\n",
       "      <th></th>\n",
       "      <th></th>\n",
       "      <th></th>\n",
       "    </tr>\n",
       "  </thead>\n",
       "  <tbody>\n",
       "    <tr>\n",
       "      <th>892</th>\n",
       "      <td>3</td>\n",
       "      <td>Kelly, Mr. James</td>\n",
       "      <td>male</td>\n",
       "      <td>34.5</td>\n",
       "      <td>0</td>\n",
       "      <td>0</td>\n",
       "      <td>330911</td>\n",
       "      <td>7.8292</td>\n",
       "      <td>NaN</td>\n",
       "      <td>Q</td>\n",
       "    </tr>\n",
       "    <tr>\n",
       "      <th>893</th>\n",
       "      <td>3</td>\n",
       "      <td>Wilkes, Mrs. James (Ellen Needs)</td>\n",
       "      <td>female</td>\n",
       "      <td>47.0</td>\n",
       "      <td>1</td>\n",
       "      <td>0</td>\n",
       "      <td>363272</td>\n",
       "      <td>7.0000</td>\n",
       "      <td>NaN</td>\n",
       "      <td>S</td>\n",
       "    </tr>\n",
       "    <tr>\n",
       "      <th>894</th>\n",
       "      <td>2</td>\n",
       "      <td>Myles, Mr. Thomas Francis</td>\n",
       "      <td>male</td>\n",
       "      <td>62.0</td>\n",
       "      <td>0</td>\n",
       "      <td>0</td>\n",
       "      <td>240276</td>\n",
       "      <td>9.6875</td>\n",
       "      <td>NaN</td>\n",
       "      <td>Q</td>\n",
       "    </tr>\n",
       "    <tr>\n",
       "      <th>895</th>\n",
       "      <td>3</td>\n",
       "      <td>Wirz, Mr. Albert</td>\n",
       "      <td>male</td>\n",
       "      <td>27.0</td>\n",
       "      <td>0</td>\n",
       "      <td>0</td>\n",
       "      <td>315154</td>\n",
       "      <td>8.6625</td>\n",
       "      <td>NaN</td>\n",
       "      <td>S</td>\n",
       "    </tr>\n",
       "    <tr>\n",
       "      <th>896</th>\n",
       "      <td>3</td>\n",
       "      <td>Hirvonen, Mrs. Alexander (Helga E Lindqvist)</td>\n",
       "      <td>female</td>\n",
       "      <td>22.0</td>\n",
       "      <td>1</td>\n",
       "      <td>1</td>\n",
       "      <td>3101298</td>\n",
       "      <td>12.2875</td>\n",
       "      <td>NaN</td>\n",
       "      <td>S</td>\n",
       "    </tr>\n",
       "  </tbody>\n",
       "</table>\n",
       "</div>"
      ],
      "text/plain": [
       "             Pclass                                          Name     Sex  \\\n",
       "PassengerId                                                                 \n",
       "892               3                              Kelly, Mr. James    male   \n",
       "893               3              Wilkes, Mrs. James (Ellen Needs)  female   \n",
       "894               2                     Myles, Mr. Thomas Francis    male   \n",
       "895               3                              Wirz, Mr. Albert    male   \n",
       "896               3  Hirvonen, Mrs. Alexander (Helga E Lindqvist)  female   \n",
       "\n",
       "              Age  SibSp  Parch   Ticket     Fare Cabin Embarked  \n",
       "PassengerId                                                       \n",
       "892          34.5      0      0   330911   7.8292   NaN        Q  \n",
       "893          47.0      1      0   363272   7.0000   NaN        S  \n",
       "894          62.0      0      0   240276   9.6875   NaN        Q  \n",
       "895          27.0      0      0   315154   8.6625   NaN        S  \n",
       "896          22.0      1      1  3101298  12.2875   NaN        S  "
      ]
     },
     "execution_count": 3,
     "metadata": {},
     "output_type": "execute_result"
    }
   ],
   "source": [
    "# Loading test data\n",
    "test_df = pd.read_csv('test.csv', index_col='PassengerId')\n",
    "test_df.head()"
   ]
  },
  {
   "cell_type": "code",
   "execution_count": 4,
   "id": "5123dbf4",
   "metadata": {
    "execution": {
     "iopub.execute_input": "2021-09-27T15:32:25.126100Z",
     "iopub.status.busy": "2021-09-27T15:32:25.125434Z",
     "iopub.status.idle": "2021-09-27T15:32:25.150708Z",
     "shell.execute_reply": "2021-09-27T15:32:25.151268Z",
     "shell.execute_reply.started": "2021-09-27T14:54:47.642704Z"
    },
    "papermill": {
     "duration": 0.063635,
     "end_time": "2021-09-27T15:32:25.151448",
     "exception": false,
     "start_time": "2021-09-27T15:32:25.087813",
     "status": "completed"
    },
    "tags": []
   },
   "outputs": [
    {
     "name": "stdout",
     "output_type": "stream",
     "text": [
      "<class 'pandas.core.frame.DataFrame'>\n",
      "Int64Index: 891 entries, 1 to 891\n",
      "Data columns (total 11 columns):\n",
      " #   Column    Non-Null Count  Dtype  \n",
      "---  ------    --------------  -----  \n",
      " 0   Survived  891 non-null    int64  \n",
      " 1   Pclass    891 non-null    int64  \n",
      " 2   Name      891 non-null    object \n",
      " 3   Sex       891 non-null    object \n",
      " 4   Age       714 non-null    float64\n",
      " 5   SibSp     891 non-null    int64  \n",
      " 6   Parch     891 non-null    int64  \n",
      " 7   Ticket    891 non-null    object \n",
      " 8   Fare      891 non-null    float64\n",
      " 9   Cabin     204 non-null    object \n",
      " 10  Embarked  889 non-null    object \n",
      "dtypes: float64(2), int64(4), object(5)\n",
      "memory usage: 83.5+ KB\n",
      "None\n",
      "----------------------------------------\n",
      "<class 'pandas.core.frame.DataFrame'>\n",
      "Int64Index: 418 entries, 892 to 1309\n",
      "Data columns (total 10 columns):\n",
      " #   Column    Non-Null Count  Dtype  \n",
      "---  ------    --------------  -----  \n",
      " 0   Pclass    418 non-null    int64  \n",
      " 1   Name      418 non-null    object \n",
      " 2   Sex       418 non-null    object \n",
      " 3   Age       332 non-null    float64\n",
      " 4   SibSp     418 non-null    int64  \n",
      " 5   Parch     418 non-null    int64  \n",
      " 6   Ticket    418 non-null    object \n",
      " 7   Fare      417 non-null    float64\n",
      " 8   Cabin     91 non-null     object \n",
      " 9   Embarked  418 non-null    object \n",
      "dtypes: float64(2), int64(3), object(5)\n",
      "memory usage: 35.9+ KB\n",
      "None\n"
     ]
    }
   ],
   "source": [
    "print(train_df.info())\n",
    "print('-'*40)\n",
    "print(test_df.info())"
   ]
  },
  {
   "cell_type": "markdown",
   "id": "cd4c6841",
   "metadata": {
    "papermill": {
     "duration": 0.033702,
     "end_time": "2021-09-27T15:32:25.218659",
     "exception": false,
     "start_time": "2021-09-27T15:32:25.184957",
     "status": "completed"
    },
    "tags": []
   },
   "source": [
    "###  **Insights:**\n",
    "* Data type and format of each feature is correct.\n",
    "* There are missing values in Age, Cabin, and Embarked columns of train dataset.\n",
    "* There are missing values in Age, Cabin, and Fare columns of test dataset."
   ]
  },
  {
   "cell_type": "code",
   "execution_count": 5,
   "id": "f7cac749",
   "metadata": {
    "execution": {
     "iopub.execute_input": "2021-09-27T15:32:25.290245Z",
     "iopub.status.busy": "2021-09-27T15:32:25.289536Z",
     "iopub.status.idle": "2021-09-27T15:32:25.298559Z",
     "shell.execute_reply": "2021-09-27T15:32:25.299049Z",
     "shell.execute_reply.started": "2021-09-27T14:54:47.670863Z"
    },
    "papermill": {
     "duration": 0.046751,
     "end_time": "2021-09-27T15:32:25.299262",
     "exception": false,
     "start_time": "2021-09-27T15:32:25.252511",
     "status": "completed"
    },
    "tags": []
   },
   "outputs": [
    {
     "name": "stdout",
     "output_type": "stream",
     "text": [
      "male      577\n",
      "female    314\n",
      "Name: Sex, dtype: int64\n",
      "--------------------------------------------------\n",
      "Number of unique values in \"Cabin\" column: 147\n",
      "--------------------------------------------------\n",
      "S    644\n",
      "C    168\n",
      "Q     77\n",
      "Name: Embarked, dtype: int64\n"
     ]
    }
   ],
   "source": [
    "# Categorical Variables Description\n",
    "print(train_df['Sex'].value_counts())\n",
    "print('-'*50)\n",
    "print(f'Number of unique values in \"Cabin\" column: {train_df.Cabin.nunique()}')\n",
    "print('-'*50)\n",
    "print(train_df['Embarked'].value_counts())"
   ]
  },
  {
   "cell_type": "code",
   "execution_count": 6,
   "id": "efc99362",
   "metadata": {
    "execution": {
     "iopub.execute_input": "2021-09-27T15:32:25.377560Z",
     "iopub.status.busy": "2021-09-27T15:32:25.376832Z",
     "iopub.status.idle": "2021-09-27T15:32:25.402951Z",
     "shell.execute_reply": "2021-09-27T15:32:25.403468Z",
     "shell.execute_reply.started": "2021-09-27T14:54:47.681854Z"
    },
    "papermill": {
     "duration": 0.068755,
     "end_time": "2021-09-27T15:32:25.403650",
     "exception": false,
     "start_time": "2021-09-27T15:32:25.334895",
     "status": "completed"
    },
    "tags": []
   },
   "outputs": [
    {
     "data": {
      "text/html": [
       "<div>\n",
       "<style scoped>\n",
       "    .dataframe tbody tr th:only-of-type {\n",
       "        vertical-align: middle;\n",
       "    }\n",
       "\n",
       "    .dataframe tbody tr th {\n",
       "        vertical-align: top;\n",
       "    }\n",
       "\n",
       "    .dataframe thead th {\n",
       "        text-align: right;\n",
       "    }\n",
       "</style>\n",
       "<table border=\"1\" class=\"dataframe\">\n",
       "  <thead>\n",
       "    <tr style=\"text-align: right;\">\n",
       "      <th></th>\n",
       "      <th>Survived</th>\n",
       "      <th>Pclass</th>\n",
       "      <th>Age</th>\n",
       "      <th>SibSp</th>\n",
       "      <th>Parch</th>\n",
       "      <th>Fare</th>\n",
       "    </tr>\n",
       "  </thead>\n",
       "  <tbody>\n",
       "    <tr>\n",
       "      <th>count</th>\n",
       "      <td>891.000000</td>\n",
       "      <td>891.000000</td>\n",
       "      <td>714.000000</td>\n",
       "      <td>891.000000</td>\n",
       "      <td>891.000000</td>\n",
       "      <td>891.000000</td>\n",
       "    </tr>\n",
       "    <tr>\n",
       "      <th>mean</th>\n",
       "      <td>0.383838</td>\n",
       "      <td>2.308642</td>\n",
       "      <td>29.699118</td>\n",
       "      <td>0.523008</td>\n",
       "      <td>0.381594</td>\n",
       "      <td>32.204208</td>\n",
       "    </tr>\n",
       "    <tr>\n",
       "      <th>std</th>\n",
       "      <td>0.486592</td>\n",
       "      <td>0.836071</td>\n",
       "      <td>14.526497</td>\n",
       "      <td>1.102743</td>\n",
       "      <td>0.806057</td>\n",
       "      <td>49.693429</td>\n",
       "    </tr>\n",
       "    <tr>\n",
       "      <th>min</th>\n",
       "      <td>0.000000</td>\n",
       "      <td>1.000000</td>\n",
       "      <td>0.420000</td>\n",
       "      <td>0.000000</td>\n",
       "      <td>0.000000</td>\n",
       "      <td>0.000000</td>\n",
       "    </tr>\n",
       "    <tr>\n",
       "      <th>25%</th>\n",
       "      <td>0.000000</td>\n",
       "      <td>2.000000</td>\n",
       "      <td>20.125000</td>\n",
       "      <td>0.000000</td>\n",
       "      <td>0.000000</td>\n",
       "      <td>7.910400</td>\n",
       "    </tr>\n",
       "    <tr>\n",
       "      <th>50%</th>\n",
       "      <td>0.000000</td>\n",
       "      <td>3.000000</td>\n",
       "      <td>28.000000</td>\n",
       "      <td>0.000000</td>\n",
       "      <td>0.000000</td>\n",
       "      <td>14.454200</td>\n",
       "    </tr>\n",
       "    <tr>\n",
       "      <th>75%</th>\n",
       "      <td>1.000000</td>\n",
       "      <td>3.000000</td>\n",
       "      <td>38.000000</td>\n",
       "      <td>1.000000</td>\n",
       "      <td>0.000000</td>\n",
       "      <td>31.000000</td>\n",
       "    </tr>\n",
       "    <tr>\n",
       "      <th>max</th>\n",
       "      <td>1.000000</td>\n",
       "      <td>3.000000</td>\n",
       "      <td>80.000000</td>\n",
       "      <td>8.000000</td>\n",
       "      <td>6.000000</td>\n",
       "      <td>512.329200</td>\n",
       "    </tr>\n",
       "  </tbody>\n",
       "</table>\n",
       "</div>"
      ],
      "text/plain": [
       "         Survived      Pclass         Age       SibSp       Parch        Fare\n",
       "count  891.000000  891.000000  714.000000  891.000000  891.000000  891.000000\n",
       "mean     0.383838    2.308642   29.699118    0.523008    0.381594   32.204208\n",
       "std      0.486592    0.836071   14.526497    1.102743    0.806057   49.693429\n",
       "min      0.000000    1.000000    0.420000    0.000000    0.000000    0.000000\n",
       "25%      0.000000    2.000000   20.125000    0.000000    0.000000    7.910400\n",
       "50%      0.000000    3.000000   28.000000    0.000000    0.000000   14.454200\n",
       "75%      1.000000    3.000000   38.000000    1.000000    0.000000   31.000000\n",
       "max      1.000000    3.000000   80.000000    8.000000    6.000000  512.329200"
      ]
     },
     "execution_count": 6,
     "metadata": {},
     "output_type": "execute_result"
    }
   ],
   "source": [
    "# Numerical Variables Description\n",
    "train_df.describe()"
   ]
  },
  {
   "cell_type": "code",
   "execution_count": 7,
   "id": "6acf887c",
   "metadata": {
    "execution": {
     "iopub.execute_input": "2021-09-27T15:32:25.477699Z",
     "iopub.status.busy": "2021-09-27T15:32:25.477012Z",
     "iopub.status.idle": "2021-09-27T15:32:25.484931Z",
     "shell.execute_reply": "2021-09-27T15:32:25.485448Z",
     "shell.execute_reply.started": "2021-09-27T14:54:47.719697Z"
    },
    "papermill": {
     "duration": 0.046997,
     "end_time": "2021-09-27T15:32:25.485650",
     "exception": false,
     "start_time": "2021-09-27T15:32:25.438653",
     "status": "completed"
    },
    "tags": []
   },
   "outputs": [
    {
     "data": {
      "text/plain": [
       "PassengerId\n",
       "136                     Richard, Mr. Emile\n",
       "826                        Flynn, Mr. John\n",
       "88           Slocovski, Mr. Selman Francis\n",
       "546           Nicholson, Mr. Arthur Ernest\n",
       "317    Kantor, Mrs. Sinai (Miriam Sternin)\n",
       "342         Fortune, Miss. Alice Elizabeth\n",
       "98         Greenfield, Mr. William Bertram\n",
       "221         Sunderland, Mr. Victor Francis\n",
       "235      Leyson, Mr. Robert William Norman\n",
       "746           Crosby, Capt. Edward Gifford\n",
       "Name: Name, dtype: object"
      ]
     },
     "execution_count": 7,
     "metadata": {},
     "output_type": "execute_result"
    }
   ],
   "source": [
    "# Nominal Variables Description\n",
    "train_df.Name.sample(10)"
   ]
  },
  {
   "cell_type": "markdown",
   "id": "85a07975",
   "metadata": {
    "papermill": {
     "duration": 0.035255,
     "end_time": "2021-09-27T15:32:25.556077",
     "exception": false,
     "start_time": "2021-09-27T15:32:25.520822",
     "status": "completed"
    },
    "tags": []
   },
   "source": [
    "###  **Insights:**\n",
    "* All the features have reasonable data. Therefore, no need to correct values.  "
   ]
  },
  {
   "cell_type": "code",
   "execution_count": 8,
   "id": "e290e445",
   "metadata": {
    "execution": {
     "iopub.execute_input": "2021-09-27T15:32:25.633534Z",
     "iopub.status.busy": "2021-09-27T15:32:25.632813Z",
     "iopub.status.idle": "2021-09-27T15:32:25.652524Z",
     "shell.execute_reply": "2021-09-27T15:32:25.653002Z",
     "shell.execute_reply.started": "2021-09-27T14:54:47.729014Z"
    },
    "papermill": {
     "duration": 0.060425,
     "end_time": "2021-09-27T15:32:25.653205",
     "exception": false,
     "start_time": "2021-09-27T15:32:25.592780",
     "status": "completed"
    },
    "tags": []
   },
   "outputs": [
    {
     "data": {
      "text/html": [
       "<div>\n",
       "<style scoped>\n",
       "    .dataframe tbody tr th:only-of-type {\n",
       "        vertical-align: middle;\n",
       "    }\n",
       "\n",
       "    .dataframe tbody tr th {\n",
       "        vertical-align: top;\n",
       "    }\n",
       "\n",
       "    .dataframe thead th {\n",
       "        text-align: right;\n",
       "    }\n",
       "</style>\n",
       "<table border=\"1\" class=\"dataframe\">\n",
       "  <thead>\n",
       "    <tr style=\"text-align: right;\">\n",
       "      <th></th>\n",
       "      <th>Pclass</th>\n",
       "      <th>Sex</th>\n",
       "      <th>Embarked</th>\n",
       "      <th>Age</th>\n",
       "    </tr>\n",
       "  </thead>\n",
       "  <tbody>\n",
       "    <tr>\n",
       "      <th>0</th>\n",
       "      <td>1</td>\n",
       "      <td>female</td>\n",
       "      <td>C</td>\n",
       "      <td>37.00</td>\n",
       "    </tr>\n",
       "    <tr>\n",
       "      <th>1</th>\n",
       "      <td>1</td>\n",
       "      <td>female</td>\n",
       "      <td>Q</td>\n",
       "      <td>33.00</td>\n",
       "    </tr>\n",
       "    <tr>\n",
       "      <th>2</th>\n",
       "      <td>1</td>\n",
       "      <td>female</td>\n",
       "      <td>S</td>\n",
       "      <td>33.00</td>\n",
       "    </tr>\n",
       "    <tr>\n",
       "      <th>3</th>\n",
       "      <td>1</td>\n",
       "      <td>male</td>\n",
       "      <td>C</td>\n",
       "      <td>36.50</td>\n",
       "    </tr>\n",
       "    <tr>\n",
       "      <th>4</th>\n",
       "      <td>1</td>\n",
       "      <td>male</td>\n",
       "      <td>Q</td>\n",
       "      <td>44.00</td>\n",
       "    </tr>\n",
       "    <tr>\n",
       "      <th>5</th>\n",
       "      <td>1</td>\n",
       "      <td>male</td>\n",
       "      <td>S</td>\n",
       "      <td>42.00</td>\n",
       "    </tr>\n",
       "    <tr>\n",
       "      <th>6</th>\n",
       "      <td>2</td>\n",
       "      <td>female</td>\n",
       "      <td>C</td>\n",
       "      <td>22.00</td>\n",
       "    </tr>\n",
       "    <tr>\n",
       "      <th>7</th>\n",
       "      <td>2</td>\n",
       "      <td>female</td>\n",
       "      <td>Q</td>\n",
       "      <td>30.00</td>\n",
       "    </tr>\n",
       "    <tr>\n",
       "      <th>8</th>\n",
       "      <td>2</td>\n",
       "      <td>female</td>\n",
       "      <td>S</td>\n",
       "      <td>29.00</td>\n",
       "    </tr>\n",
       "    <tr>\n",
       "      <th>9</th>\n",
       "      <td>2</td>\n",
       "      <td>male</td>\n",
       "      <td>C</td>\n",
       "      <td>29.50</td>\n",
       "    </tr>\n",
       "    <tr>\n",
       "      <th>10</th>\n",
       "      <td>2</td>\n",
       "      <td>male</td>\n",
       "      <td>Q</td>\n",
       "      <td>57.00</td>\n",
       "    </tr>\n",
       "    <tr>\n",
       "      <th>11</th>\n",
       "      <td>2</td>\n",
       "      <td>male</td>\n",
       "      <td>S</td>\n",
       "      <td>30.00</td>\n",
       "    </tr>\n",
       "    <tr>\n",
       "      <th>12</th>\n",
       "      <td>3</td>\n",
       "      <td>female</td>\n",
       "      <td>C</td>\n",
       "      <td>14.25</td>\n",
       "    </tr>\n",
       "    <tr>\n",
       "      <th>13</th>\n",
       "      <td>3</td>\n",
       "      <td>female</td>\n",
       "      <td>Q</td>\n",
       "      <td>20.00</td>\n",
       "    </tr>\n",
       "    <tr>\n",
       "      <th>14</th>\n",
       "      <td>3</td>\n",
       "      <td>female</td>\n",
       "      <td>S</td>\n",
       "      <td>23.00</td>\n",
       "    </tr>\n",
       "    <tr>\n",
       "      <th>15</th>\n",
       "      <td>3</td>\n",
       "      <td>male</td>\n",
       "      <td>C</td>\n",
       "      <td>26.00</td>\n",
       "    </tr>\n",
       "    <tr>\n",
       "      <th>16</th>\n",
       "      <td>3</td>\n",
       "      <td>male</td>\n",
       "      <td>Q</td>\n",
       "      <td>27.00</td>\n",
       "    </tr>\n",
       "    <tr>\n",
       "      <th>17</th>\n",
       "      <td>3</td>\n",
       "      <td>male</td>\n",
       "      <td>S</td>\n",
       "      <td>25.00</td>\n",
       "    </tr>\n",
       "  </tbody>\n",
       "</table>\n",
       "</div>"
      ],
      "text/plain": [
       "    Pclass     Sex Embarked    Age\n",
       "0        1  female        C  37.00\n",
       "1        1  female        Q  33.00\n",
       "2        1  female        S  33.00\n",
       "3        1    male        C  36.50\n",
       "4        1    male        Q  44.00\n",
       "5        1    male        S  42.00\n",
       "6        2  female        C  22.00\n",
       "7        2  female        Q  30.00\n",
       "8        2  female        S  29.00\n",
       "9        2    male        C  29.50\n",
       "10       2    male        Q  57.00\n",
       "11       2    male        S  30.00\n",
       "12       3  female        C  14.25\n",
       "13       3  female        Q  20.00\n",
       "14       3  female        S  23.00\n",
       "15       3    male        C  26.00\n",
       "16       3    male        Q  27.00\n",
       "17       3    male        S  25.00"
      ]
     },
     "execution_count": 8,
     "metadata": {},
     "output_type": "execute_result"
    }
   ],
   "source": [
    "# Creating age table to fill missing values in Age Column\n",
    "age_table = train_df.groupby(['Pclass', 'Sex', 'Embarked']).Age.median().reset_index()\n",
    "age_table"
   ]
  },
  {
   "cell_type": "markdown",
   "id": "e52caec6",
   "metadata": {
    "papermill": {
     "duration": 0.036732,
     "end_time": "2021-09-27T15:32:25.728757",
     "exception": false,
     "start_time": "2021-09-27T15:32:25.692025",
     "status": "completed"
    },
    "tags": []
   },
   "source": [
    "* We will use above age table consisting of median age for each combination of Pclass, Sex, and Embarked for better estimation of missing values in Age column.\n",
    "* We will fill 'S' in the Embarked column for missing values because it is the most frequent embarkation port.\n",
    "* We will use median fare for filling the missing values in Fare column. \n",
    "* We will not consider Cabin column as it contains more than 75% missing values."
   ]
  },
  {
   "cell_type": "code",
   "execution_count": 9,
   "id": "7d06c9f0",
   "metadata": {
    "execution": {
     "iopub.execute_input": "2021-09-27T15:32:25.807105Z",
     "iopub.status.busy": "2021-09-27T15:32:25.806426Z",
     "iopub.status.idle": "2021-09-27T15:32:26.108084Z",
     "shell.execute_reply": "2021-09-27T15:32:26.108576Z",
     "shell.execute_reply.started": "2021-09-27T14:54:47.761405Z"
    },
    "papermill": {
     "duration": 0.341473,
     "end_time": "2021-09-27T15:32:26.108763",
     "exception": false,
     "start_time": "2021-09-27T15:32:25.767290",
     "status": "completed"
    },
    "tags": []
   },
   "outputs": [
    {
     "data": {
      "text/html": [
       "<div>\n",
       "<style scoped>\n",
       "    .dataframe tbody tr th:only-of-type {\n",
       "        vertical-align: middle;\n",
       "    }\n",
       "\n",
       "    .dataframe tbody tr th {\n",
       "        vertical-align: top;\n",
       "    }\n",
       "\n",
       "    .dataframe thead th {\n",
       "        text-align: right;\n",
       "    }\n",
       "</style>\n",
       "<table border=\"1\" class=\"dataframe\">\n",
       "  <thead>\n",
       "    <tr style=\"text-align: right;\">\n",
       "      <th></th>\n",
       "      <th>Survived</th>\n",
       "      <th>Pclass</th>\n",
       "      <th>Name</th>\n",
       "      <th>Sex</th>\n",
       "      <th>Age</th>\n",
       "      <th>SibSp</th>\n",
       "      <th>Parch</th>\n",
       "      <th>Ticket</th>\n",
       "      <th>Fare</th>\n",
       "      <th>Cabin</th>\n",
       "      <th>Embarked</th>\n",
       "    </tr>\n",
       "    <tr>\n",
       "      <th>PassengerId</th>\n",
       "      <th></th>\n",
       "      <th></th>\n",
       "      <th></th>\n",
       "      <th></th>\n",
       "      <th></th>\n",
       "      <th></th>\n",
       "      <th></th>\n",
       "      <th></th>\n",
       "      <th></th>\n",
       "      <th></th>\n",
       "      <th></th>\n",
       "    </tr>\n",
       "  </thead>\n",
       "  <tbody>\n",
       "    <tr>\n",
       "      <th>630</th>\n",
       "      <td>0</td>\n",
       "      <td>3</td>\n",
       "      <td>O'Connell, Mr. Patrick D</td>\n",
       "      <td>male</td>\n",
       "      <td>27.0</td>\n",
       "      <td>0</td>\n",
       "      <td>0</td>\n",
       "      <td>334912</td>\n",
       "      <td>7.7333</td>\n",
       "      <td>NaN</td>\n",
       "      <td>Q</td>\n",
       "    </tr>\n",
       "    <tr>\n",
       "      <th>494</th>\n",
       "      <td>0</td>\n",
       "      <td>1</td>\n",
       "      <td>Artagaveytia, Mr. Ramon</td>\n",
       "      <td>male</td>\n",
       "      <td>71.0</td>\n",
       "      <td>0</td>\n",
       "      <td>0</td>\n",
       "      <td>PC 17609</td>\n",
       "      <td>49.5042</td>\n",
       "      <td>NaN</td>\n",
       "      <td>C</td>\n",
       "    </tr>\n",
       "    <tr>\n",
       "      <th>752</th>\n",
       "      <td>1</td>\n",
       "      <td>3</td>\n",
       "      <td>Moor, Master. Meier</td>\n",
       "      <td>male</td>\n",
       "      <td>6.0</td>\n",
       "      <td>0</td>\n",
       "      <td>1</td>\n",
       "      <td>392096</td>\n",
       "      <td>12.4750</td>\n",
       "      <td>E121</td>\n",
       "      <td>S</td>\n",
       "    </tr>\n",
       "    <tr>\n",
       "      <th>706</th>\n",
       "      <td>0</td>\n",
       "      <td>2</td>\n",
       "      <td>Morley, Mr. Henry Samuel (\"Mr Henry Marshall\")</td>\n",
       "      <td>male</td>\n",
       "      <td>39.0</td>\n",
       "      <td>0</td>\n",
       "      <td>0</td>\n",
       "      <td>250655</td>\n",
       "      <td>26.0000</td>\n",
       "      <td>NaN</td>\n",
       "      <td>S</td>\n",
       "    </tr>\n",
       "    <tr>\n",
       "      <th>600</th>\n",
       "      <td>1</td>\n",
       "      <td>1</td>\n",
       "      <td>Duff Gordon, Sir. Cosmo Edmund (\"Mr Morgan\")</td>\n",
       "      <td>male</td>\n",
       "      <td>49.0</td>\n",
       "      <td>1</td>\n",
       "      <td>0</td>\n",
       "      <td>PC 17485</td>\n",
       "      <td>56.9292</td>\n",
       "      <td>A20</td>\n",
       "      <td>C</td>\n",
       "    </tr>\n",
       "  </tbody>\n",
       "</table>\n",
       "</div>"
      ],
      "text/plain": [
       "             Survived  Pclass                                            Name  \\\n",
       "PassengerId                                                                     \n",
       "630                 0       3                        O'Connell, Mr. Patrick D   \n",
       "494                 0       1                         Artagaveytia, Mr. Ramon   \n",
       "752                 1       3                             Moor, Master. Meier   \n",
       "706                 0       2  Morley, Mr. Henry Samuel (\"Mr Henry Marshall\")   \n",
       "600                 1       1    Duff Gordon, Sir. Cosmo Edmund (\"Mr Morgan\")   \n",
       "\n",
       "              Sex   Age  SibSp  Parch    Ticket     Fare Cabin Embarked  \n",
       "PassengerId                                                              \n",
       "630          male  27.0      0      0    334912   7.7333   NaN        Q  \n",
       "494          male  71.0      0      0  PC 17609  49.5042   NaN        C  \n",
       "752          male   6.0      0      1    392096  12.4750  E121        S  \n",
       "706          male  39.0      0      0    250655  26.0000   NaN        S  \n",
       "600          male  49.0      1      0  PC 17485  56.9292   A20        C  "
      ]
     },
     "execution_count": 9,
     "metadata": {},
     "output_type": "execute_result"
    }
   ],
   "source": [
    "# Filling the missing values\n",
    "def find_age(row):\n",
    "    if pd.isnull(row[3]):\n",
    "        Pclass = row[0]\n",
    "        Sex = row[1]\n",
    "        Embarked = row[2]\n",
    "        return age_table[(age_table.Pclass==Pclass) & (age_table.Sex==Sex) & (age_table.Embarked==Embarked)]['Age'].iloc[0]\n",
    "    else:\n",
    "        row[3]\n",
    "\n",
    "train_df.fillna(value={'Embarked':'S', 'Age':train_df[['Pclass', 'Sex', 'Embarked', 'Age']].apply(find_age, axis=1)}, inplace=True)\n",
    "test_df.fillna(value={'Fare':test_df.Fare.median(), 'Age':test_df[['Pclass', 'Sex', 'Embarked', 'Age']].apply(find_age, axis=1)}, inplace=True)\n",
    "train_df.sample(5)"
   ]
  },
  {
   "cell_type": "code",
   "execution_count": 10,
   "id": "b3ed685e",
   "metadata": {
    "execution": {
     "iopub.execute_input": "2021-09-27T15:32:26.187964Z",
     "iopub.status.busy": "2021-09-27T15:32:26.187232Z",
     "iopub.status.idle": "2021-09-27T15:32:26.321443Z",
     "shell.execute_reply": "2021-09-27T15:32:26.320824Z",
     "shell.execute_reply.started": "2021-09-27T14:54:48.046753Z"
    },
    "papermill": {
     "duration": 0.174015,
     "end_time": "2021-09-27T15:32:26.321583",
     "exception": false,
     "start_time": "2021-09-27T15:32:26.147568",
     "status": "completed"
    },
    "tags": []
   },
   "outputs": [
    {
     "data": {
      "image/png": "[encoded data removed]",
      "text/plain": [
       "<Figure size 432x288 with 1 Axes>"
      ]
     },
     "metadata": {},
     "output_type": "display_data"
    }
   ],
   "source": [
    "# Class Imbalance Check\n",
    "plt.pie(train_df.Survived.value_counts(), labels=['Not Survived', 'Survived'], autopct='%0.1f%%')\n",
    "plt.axis('equal')\n",
    "plt.show()"
   ]
  },
  {
   "cell_type": "markdown",
   "id": "335d5d85",
   "metadata": {
    "papermill": {
     "duration": 0.038411,
     "end_time": "2021-09-27T15:32:26.397871",
     "exception": false,
     "start_time": "2021-09-27T15:32:26.359460",
     "status": "completed"
    },
    "tags": []
   },
   "source": [
    "###  **Insights:**\n",
    "* This is not a class imbalance problem."
   ]
  },
  {
   "cell_type": "markdown",
   "id": "968aa8fe",
   "metadata": {
    "papermill": {
     "duration": 0.036114,
     "end_time": "2021-09-27T15:32:26.470561",
     "exception": false,
     "start_time": "2021-09-27T15:32:26.434447",
     "status": "completed"
    },
    "tags": []
   },
   "source": [
    "# Data Visualization"
   ]
  },
  {
   "cell_type": "code",
   "execution_count": 11,
   "id": "9216205d",
   "metadata": {
    "execution": {
     "iopub.execute_input": "2021-09-27T15:32:26.578888Z",
     "iopub.status.busy": "2021-09-27T15:32:26.570342Z",
     "iopub.status.idle": "2021-09-27T15:32:26.978508Z",
     "shell.execute_reply": "2021-09-27T15:32:26.979435Z",
     "shell.execute_reply.started": "2021-09-27T14:54:48.204159Z"
    },
    "papermill": {
     "duration": 0.472258,
     "end_time": "2021-09-27T15:32:26.979691",
     "exception": false,
     "start_time": "2021-09-27T15:32:26.507433",
     "status": "completed"
    },
    "tags": []
   },
   "outputs": [
    {
     "data": {
      "image/png": "[encoded data removed]",
      "text/plain": [
       "<Figure size 864x288 with 2 Axes>"
      ]
     },
     "metadata": {
      "needs_background": "light"
     },
     "output_type": "display_data"
    }
   ],
   "source": [
    "# Pclass distribution and its relation with the survival rate\n",
    "plt.figure(figsize=(12, 4))\n",
    "\n",
    "# Subplot 1\n",
    "plt.subplot(1, 2, 1)\n",
    "plt.pie(train_df.Pclass.value_counts().sort_index(), labels=['1', '2', '3'], autopct='%0.1f%%')\n",
    "plt.axis('equal')\n",
    "plt.title('Pclass')\n",
    "\n",
    "# Subplot 2\n",
    "plt.subplot(1, 2, 2)\n",
    "sns.pointplot(data=train_df, x='Pclass', y='Survived', estimator=np.mean, capsize=0.05)\n",
    "plt.ylim([0, 1])\n",
    "plt.title('Survival Rate for Passenger Classes')\n",
    "\n",
    "plt.subplots_adjust()\n",
    "plt.tight_layout()\n",
    "plt.show()"
   ]
  },
  {
   "cell_type": "code",
   "execution_count": 12,
   "id": "9600d0a6",
   "metadata": {
    "execution": {
     "iopub.execute_input": "2021-09-27T15:32:27.210742Z",
     "iopub.status.busy": "2021-09-27T15:32:27.209693Z",
     "iopub.status.idle": "2021-09-27T15:32:27.554443Z",
     "shell.execute_reply": "2021-09-27T15:32:27.553832Z",
     "shell.execute_reply.started": "2021-09-27T14:54:48.571371Z"
    },
    "papermill": {
     "duration": 0.533714,
     "end_time": "2021-09-27T15:32:27.554586",
     "exception": false,
     "start_time": "2021-09-27T15:32:27.020872",
     "status": "completed"
    },
    "tags": []
   },
   "outputs": [
    {
     "data": {
      "image/png": "[encoded data removed]",
      "text/plain": [
       "<Figure size 864x288 with 2 Axes>"
      ]
     },
     "metadata": {
      "needs_background": "light"
     },
     "output_type": "display_data"
    }
   ],
   "source": [
    "# Sex distribution and its relation with the survival rate\n",
    "plt.figure(figsize=(12, 4))\n",
    "\n",
    "# Subplot 1\n",
    "plt.subplot(1, 2, 1)\n",
    "plt.pie(train_df.Sex.value_counts(), labels=['Male', 'Female'], autopct='%0.1f%%')\n",
    "plt.axis('equal')\n",
    "plt.title('Sex')\n",
    "\n",
    "# Subplot 2\n",
    "plt.subplot(1, 2, 2)\n",
    "sns.pointplot(data=train_df, x='Sex', y='Survived', estimator=np.mean, capsize=0.05)\n",
    "plt.ylim([0, 1])\n",
    "plt.title('Survival Rate for Genders')\n",
    "\n",
    "plt.subplots_adjust()\n",
    "plt.tight_layout()\n",
    "plt.show()"
   ]
  },
  {
   "cell_type": "code",
   "execution_count": 13,
   "id": "90281f7a",
   "metadata": {
    "execution": {
     "iopub.execute_input": "2021-09-27T15:32:27.637704Z",
     "iopub.status.busy": "2021-09-27T15:32:27.636724Z",
     "iopub.status.idle": "2021-09-27T15:32:28.044394Z",
     "shell.execute_reply": "2021-09-27T15:32:28.044855Z",
     "shell.execute_reply.started": "2021-09-27T14:54:49.174334Z"
    },
    "papermill": {
     "duration": 0.450527,
     "end_time": "2021-09-27T15:32:28.045032",
     "exception": false,
     "start_time": "2021-09-27T15:32:27.594505",
     "status": "completed"
    },
    "tags": []
   },
   "outputs": [
    {
     "data": {
      "image/png": "[encoded data removed]",
      "text/plain": [
       "<Figure size 864x288 with 2 Axes>"
      ]
     },
     "metadata": {
      "needs_background": "light"
     },
     "output_type": "display_data"
    }
   ],
   "source": [
    "# Embarkation ports distribution and its relation with the survival rate\n",
    "plt.figure(figsize=(12, 4))\n",
    "\n",
    "# Subplot 1\n",
    "plt.subplot(1, 2, 1)\n",
    "plt.pie(train_df.Embarked.value_counts(), labels=['S', 'C', 'Q'], autopct='%0.1f%%')\n",
    "plt.axis('equal')\n",
    "plt.title('Embarked')\n",
    "\n",
    "# Subplot 2\n",
    "plt.subplot(1, 2, 2)\n",
    "sns.pointplot(data=train_df, x='Embarked', y='Survived', estimator=np.mean, capsize=0.05)\n",
    "plt.ylim([0, 1])\n",
    "plt.title('Survival Rate for Embarkation Ports')\n",
    "\n",
    "plt.subplots_adjust()\n",
    "plt.tight_layout()\n",
    "plt.show()"
   ]
  },
  {
   "cell_type": "code",
   "execution_count": 14,
   "id": "8be0f37a",
   "metadata": {
    "execution": {
     "iopub.execute_input": "2021-09-27T15:32:28.158529Z",
     "iopub.status.busy": "2021-09-27T15:32:28.139955Z",
     "iopub.status.idle": "2021-09-27T15:32:28.797715Z",
     "shell.execute_reply": "2021-09-27T15:32:28.796795Z",
     "shell.execute_reply.started": "2021-09-27T14:54:49.51891Z"
    },
    "papermill": {
     "duration": 0.712228,
     "end_time": "2021-09-27T15:32:28.797875",
     "exception": false,
     "start_time": "2021-09-27T15:32:28.085647",
     "status": "completed"
    },
    "tags": []
   },
   "outputs": [
    {
     "data": {
      "image/png": "[encoded data removed]",
      "text/plain": [
       "<Figure size 864x288 with 2 Axes>"
      ]
     },
     "metadata": {
      "needs_background": "light"
     },
     "output_type": "display_data"
    }
   ],
   "source": [
    "# SibSp distribution and its relation with the survival rate\n",
    "plt.figure(figsize=(12, 4))\n",
    "\n",
    "# Subplot 1\n",
    "plt.subplot(1, 2, 1)\n",
    "x = np.arange(len(train_df.SibSp.value_counts().sort_index()))\n",
    "y = train_df.SibSp.value_counts().sort_index()\n",
    "vbar = plt.bar(x, y)\n",
    "plt.xticks(x, train_df.SibSp.value_counts().sort_index().index)\n",
    "plt.bar_label(vbar)\n",
    "plt.title('SibSp')\n",
    "\n",
    "# Subplot 2\n",
    "plt.subplot(1, 2, 2)\n",
    "sns.pointplot(data=train_df, x='SibSp', y='Survived', estimator=np.mean, capsize=0.05)\n",
    "plt.ylim([0, 1])\n",
    "plt.title('Survival Rate for SibSp')\n",
    "\n",
    "plt.subplots_adjust()\n",
    "plt.tight_layout()\n",
    "plt.show()"
   ]
  },
  {
   "cell_type": "code",
   "execution_count": 15,
   "id": "43992fed",
   "metadata": {
    "execution": {
     "iopub.execute_input": "2021-09-27T15:32:28.956434Z",
     "iopub.status.busy": "2021-09-27T15:32:28.916146Z",
     "iopub.status.idle": "2021-09-27T15:32:29.542173Z",
     "shell.execute_reply": "2021-09-27T15:32:29.541592Z",
     "shell.execute_reply.started": "2021-09-27T14:54:50.073838Z"
    },
    "papermill": {
     "duration": 0.703271,
     "end_time": "2021-09-27T15:32:29.542321",
     "exception": false,
     "start_time": "2021-09-27T15:32:28.839050",
     "status": "completed"
    },
    "tags": []
   },
   "outputs": [
    {
     "data": {
      "image/png": "[encoded data removed]",
      "text/plain": [
       "<Figure size 864x288 with 2 Axes>"
      ]
     },
     "metadata": {
      "needs_background": "light"
     },
     "output_type": "display_data"
    }
   ],
   "source": [
    "# Parch distribution and its relation with the survival rate\n",
    "plt.figure(figsize=(12, 4))\n",
    "\n",
    "# Subplot 1\n",
    "plt.subplot(1, 2, 1)\n",
    "x = np.arange(len(train_df.Parch.value_counts().sort_index()))\n",
    "y = train_df.Parch.value_counts().sort_index()\n",
    "vbar = plt.bar(x, y)\n",
    "plt.xticks(x, train_df.Parch.value_counts().sort_index().index)\n",
    "plt.bar_label(vbar)\n",
    "plt.title('Parch')\n",
    "\n",
    "# Subplot 2\n",
    "plt.subplot(1, 2, 2)\n",
    "sns.pointplot(data=train_df, x='Parch', y='Survived', estimator=np.mean, capsize=0.05)\n",
    "plt.ylim([0, 1])\n",
    "plt.title('Survival Rate for Parch')\n",
    "\n",
    "plt.subplots_adjust()\n",
    "plt.tight_layout()\n",
    "plt.show()"
   ]
  },
  {
   "cell_type": "code",
   "execution_count": 16,
   "id": "28b22865",
   "metadata": {
    "execution": {
     "iopub.execute_input": "2021-09-27T15:32:29.669608Z",
     "iopub.status.busy": "2021-09-27T15:32:29.664920Z",
     "iopub.status.idle": "2021-09-27T15:32:30.087255Z",
     "shell.execute_reply": "2021-09-27T15:32:30.086662Z",
     "shell.execute_reply.started": "2021-09-27T14:54:50.61258Z"
    },
    "papermill": {
     "duration": 0.502797,
     "end_time": "2021-09-27T15:32:30.087418",
     "exception": false,
     "start_time": "2021-09-27T15:32:29.584621",
     "status": "completed"
    },
    "tags": []
   },
   "outputs": [
    {
     "data": {
      "image/png": "[encoded data removed]",
      "text/plain": [
       "<Figure size 864x288 with 2 Axes>"
      ]
     },
     "metadata": {
      "needs_background": "light"
     },
     "output_type": "display_data"
    }
   ],
   "source": [
    "# Age distribution and its relation with the survival\n",
    "plt.figure(figsize=(12, 4))\n",
    "\n",
    "# Subplot 1\n",
    "plt.subplot(1, 2, 1)\n",
    "sns.kdeplot(train_df.Age)\n",
    "quartiles = np.quantile(train_df.Age, [0.25, 0.50, 0.75])\n",
    "colors = ['r', 'g', 'b']\n",
    "labels = ['Q1', 'Q2', 'Q3']\n",
    "for q, c, l in zip(quartiles, colors, labels):\n",
    "    plt.axvline(x=q, c=c, label=l+f'={q}')\n",
    "plt.legend()\n",
    "\n",
    "# Subplot 2\n",
    "plt.subplot(1, 2, 2)\n",
    "sns.kdeplot(data=train_df, x='Age', hue='Survived')\n",
    "\n",
    "plt.show()"
   ]
  },
  {
   "cell_type": "code",
   "execution_count": 17,
   "id": "5577caf1",
   "metadata": {
    "execution": {
     "iopub.execute_input": "2021-09-27T15:32:30.203864Z",
     "iopub.status.busy": "2021-09-27T15:32:30.202649Z",
     "iopub.status.idle": "2021-09-27T15:32:30.653329Z",
     "shell.execute_reply": "2021-09-27T15:32:30.652541Z",
     "shell.execute_reply.started": "2021-09-27T14:54:51.017321Z"
    },
    "papermill": {
     "duration": 0.520709,
     "end_time": "2021-09-27T15:32:30.653479",
     "exception": false,
     "start_time": "2021-09-27T15:32:30.132770",
     "status": "completed"
    },
    "tags": []
   },
   "outputs": [
    {
     "data": {
      "image/png": "[encoded data removed]",
      "text/plain": [
       "<Figure size 864x288 with 2 Axes>"
      ]
     },
     "metadata": {
      "needs_background": "light"
     },
     "output_type": "display_data"
    }
   ],
   "source": [
    "# Fare distribution and its relation with the survival\n",
    "plt.figure(figsize=(12, 4))\n",
    "\n",
    "# Subplot 1\n",
    "plt.subplot(1, 2, 1)\n",
    "sns.kdeplot(train_df.Fare)\n",
    "quartiles = np.quantile(train_df.Fare, [0.25, 0.50, 0.75])\n",
    "colors = ['r', 'g', 'b']\n",
    "labels = ['Q1', 'Q2', 'Q3']\n",
    "for q, c, l in zip(quartiles, colors, labels):\n",
    "    plt.axvline(x=q, c=c, label=l+f'={q}')\n",
    "plt.legend()\n",
    "\n",
    "# Subplot 2\n",
    "plt.subplot(1, 2, 2)\n",
    "sns.kdeplot(data=train_df, x='Fare', hue='Survived')\n",
    "\n",
    "plt.show()"
   ]
  },
  {
   "cell_type": "markdown",
   "id": "3227b9d3",
   "metadata": {
    "papermill": {
     "duration": 0.044889,
     "end_time": "2021-09-27T15:32:30.744013",
     "exception": false,
     "start_time": "2021-09-27T15:32:30.699124",
     "status": "completed"
    },
    "tags": []
   },
   "source": [
    "###  **Insights:**\n",
    "* Pclass, Sex, and Embarked columns can be seen to have an impact on survival.\n",
    "* SibSp and Parch columns are non-uniformly distributed among their categories. Moreover, they do not clearly exhibit relationship with the survival with the current distribution.\n",
    "* Age and Fare columns show a considerable relationship with the survival."
   ]
  },
  {
   "cell_type": "markdown",
   "id": "9c6b0308",
   "metadata": {
    "papermill": {
     "duration": 0.044612,
     "end_time": "2021-09-27T15:32:30.833705",
     "exception": false,
     "start_time": "2021-09-27T15:32:30.789093",
     "status": "completed"
    },
    "tags": []
   },
   "source": [
    "# Feature Engineering"
   ]
  },
  {
   "cell_type": "code",
   "execution_count": 18,
   "id": "3119d08c",
   "metadata": {
    "execution": {
     "iopub.execute_input": "2021-09-27T15:32:30.928682Z",
     "iopub.status.busy": "2021-09-27T15:32:30.927937Z",
     "iopub.status.idle": "2021-09-27T15:32:30.951250Z",
     "shell.execute_reply": "2021-09-27T15:32:30.951728Z",
     "shell.execute_reply.started": "2021-09-27T14:54:51.426585Z"
    },
    "papermill": {
     "duration": 0.072129,
     "end_time": "2021-09-27T15:32:30.951906",
     "exception": false,
     "start_time": "2021-09-27T15:32:30.879777",
     "status": "completed"
    },
    "tags": []
   },
   "outputs": [
    {
     "data": {
      "text/html": [
       "<div>\n",
       "<style scoped>\n",
       "    .dataframe tbody tr th:only-of-type {\n",
       "        vertical-align: middle;\n",
       "    }\n",
       "\n",
       "    .dataframe tbody tr th {\n",
       "        vertical-align: top;\n",
       "    }\n",
       "\n",
       "    .dataframe thead th {\n",
       "        text-align: right;\n",
       "    }\n",
       "</style>\n",
       "<table border=\"1\" class=\"dataframe\">\n",
       "  <thead>\n",
       "    <tr style=\"text-align: right;\">\n",
       "      <th></th>\n",
       "      <th>Survived</th>\n",
       "      <th>Pclass</th>\n",
       "      <th>Name</th>\n",
       "      <th>Sex</th>\n",
       "      <th>Age</th>\n",
       "      <th>SibSp</th>\n",
       "      <th>Parch</th>\n",
       "      <th>Ticket</th>\n",
       "      <th>Fare</th>\n",
       "      <th>Cabin</th>\n",
       "      <th>Embarked</th>\n",
       "      <th>Family</th>\n",
       "    </tr>\n",
       "    <tr>\n",
       "      <th>PassengerId</th>\n",
       "      <th></th>\n",
       "      <th></th>\n",
       "      <th></th>\n",
       "      <th></th>\n",
       "      <th></th>\n",
       "      <th></th>\n",
       "      <th></th>\n",
       "      <th></th>\n",
       "      <th></th>\n",
       "      <th></th>\n",
       "      <th></th>\n",
       "      <th></th>\n",
       "    </tr>\n",
       "  </thead>\n",
       "  <tbody>\n",
       "    <tr>\n",
       "      <th>675</th>\n",
       "      <td>0</td>\n",
       "      <td>2</td>\n",
       "      <td>Watson, Mr. Ennis Hastings</td>\n",
       "      <td>male</td>\n",
       "      <td>30.0</td>\n",
       "      <td>0</td>\n",
       "      <td>0</td>\n",
       "      <td>239856</td>\n",
       "      <td>0.0000</td>\n",
       "      <td>NaN</td>\n",
       "      <td>S</td>\n",
       "      <td>0</td>\n",
       "    </tr>\n",
       "    <tr>\n",
       "      <th>795</th>\n",
       "      <td>0</td>\n",
       "      <td>3</td>\n",
       "      <td>Dantcheff, Mr. Ristiu</td>\n",
       "      <td>male</td>\n",
       "      <td>25.0</td>\n",
       "      <td>0</td>\n",
       "      <td>0</td>\n",
       "      <td>349203</td>\n",
       "      <td>7.8958</td>\n",
       "      <td>NaN</td>\n",
       "      <td>S</td>\n",
       "      <td>0</td>\n",
       "    </tr>\n",
       "    <tr>\n",
       "      <th>552</th>\n",
       "      <td>0</td>\n",
       "      <td>2</td>\n",
       "      <td>Sharp, Mr. Percival James R</td>\n",
       "      <td>male</td>\n",
       "      <td>27.0</td>\n",
       "      <td>0</td>\n",
       "      <td>0</td>\n",
       "      <td>244358</td>\n",
       "      <td>26.0000</td>\n",
       "      <td>NaN</td>\n",
       "      <td>S</td>\n",
       "      <td>0</td>\n",
       "    </tr>\n",
       "    <tr>\n",
       "      <th>619</th>\n",
       "      <td>1</td>\n",
       "      <td>2</td>\n",
       "      <td>Becker, Miss. Marion Louise</td>\n",
       "      <td>female</td>\n",
       "      <td>4.0</td>\n",
       "      <td>2</td>\n",
       "      <td>1</td>\n",
       "      <td>230136</td>\n",
       "      <td>39.0000</td>\n",
       "      <td>F4</td>\n",
       "      <td>S</td>\n",
       "      <td>3</td>\n",
       "    </tr>\n",
       "    <tr>\n",
       "      <th>55</th>\n",
       "      <td>0</td>\n",
       "      <td>1</td>\n",
       "      <td>Ostby, Mr. Engelhart Cornelius</td>\n",
       "      <td>male</td>\n",
       "      <td>65.0</td>\n",
       "      <td>0</td>\n",
       "      <td>1</td>\n",
       "      <td>113509</td>\n",
       "      <td>61.9792</td>\n",
       "      <td>B30</td>\n",
       "      <td>C</td>\n",
       "      <td>1</td>\n",
       "    </tr>\n",
       "  </tbody>\n",
       "</table>\n",
       "</div>"
      ],
      "text/plain": [
       "             Survived  Pclass                            Name     Sex   Age  \\\n",
       "PassengerId                                                                   \n",
       "675                 0       2      Watson, Mr. Ennis Hastings    male  30.0   \n",
       "795                 0       3           Dantcheff, Mr. Ristiu    male  25.0   \n",
       "552                 0       2     Sharp, Mr. Percival James R    male  27.0   \n",
       "619                 1       2     Becker, Miss. Marion Louise  female   4.0   \n",
       "55                  0       1  Ostby, Mr. Engelhart Cornelius    male  65.0   \n",
       "\n",
       "             SibSp  Parch  Ticket     Fare Cabin Embarked  Family  \n",
       "PassengerId                                                        \n",
       "675              0      0  239856   0.0000   NaN        S       0  \n",
       "795              0      0  349203   7.8958   NaN        S       0  \n",
       "552              0      0  244358  26.0000   NaN        S       0  \n",
       "619              2      1  230136  39.0000    F4        S       3  \n",
       "55               0      1  113509  61.9792   B30        C       1  "
      ]
     },
     "execution_count": 18,
     "metadata": {},
     "output_type": "execute_result"
    }
   ],
   "source": [
    "# Combining SibSp and Parch columns to create Family column to find a better relation with survival\n",
    "train_df_fe = train_df.copy()\n",
    "test_df_fe = test_df.copy()\n",
    "combined = [train_df_fe, test_df_fe]\n",
    "\n",
    "for df in combined:\n",
    "    df['Family'] = df['SibSp'] + df['Parch']\n",
    "    df['Family'] = df.Family.apply(lambda x: x if x in [0, 1, 2] else 3)\n",
    "train_df_fe.sample(5)"
   ]
  },
  {
   "cell_type": "code",
   "execution_count": 19,
   "id": "0ae83737",
   "metadata": {
    "execution": {
     "iopub.execute_input": "2021-09-27T15:32:31.049356Z",
     "iopub.status.busy": "2021-09-27T15:32:31.048624Z",
     "iopub.status.idle": "2021-09-27T15:32:31.563302Z",
     "shell.execute_reply": "2021-09-27T15:32:31.562739Z",
     "shell.execute_reply.started": "2021-09-27T14:54:51.450223Z"
    },
    "papermill": {
     "duration": 0.564842,
     "end_time": "2021-09-27T15:32:31.563470",
     "exception": false,
     "start_time": "2021-09-27T15:32:30.998628",
     "status": "completed"
    },
    "tags": []
   },
   "outputs": [
    {
     "data": {
      "image/png": "[encoded data removed]",
      "text/plain": [
       "<Figure size 864x288 with 2 Axes>"
      ]
     },
     "metadata": {
      "needs_background": "light"
     },
     "output_type": "display_data"
    }
   ],
   "source": [
    "# Family distribution and its relation with the survival rate\n",
    "plt.figure(figsize=(12, 4))\n",
    "\n",
    "# Subplot 1\n",
    "plt.subplot(1, 2, 1)\n",
    "x = np.arange(len(train_df_fe.Family.value_counts().sort_index()))\n",
    "y = train_df_fe.Family.value_counts().sort_index()\n",
    "vbar = plt.bar(x, y)\n",
    "plt.xticks(x, train_df_fe.Family.value_counts().sort_index().index)\n",
    "plt.bar_label(vbar)\n",
    "plt.title('Family')\n",
    "\n",
    "# Subplot 2\n",
    "plt.subplot(1, 2, 2)\n",
    "sns.pointplot(data=train_df_fe, x='Family', y='Survived', estimator=np.mean, capsize=0.05)\n",
    "plt.ylim([0, 1])\n",
    "plt.title('Survival Rate for Family')\n",
    "\n",
    "plt.subplots_adjust()\n",
    "plt.tight_layout()\n",
    "plt.show()"
   ]
  },
  {
   "cell_type": "markdown",
   "id": "c781166f",
   "metadata": {
    "papermill": {
     "duration": 0.047363,
     "end_time": "2021-09-27T15:32:31.658226",
     "exception": false,
     "start_time": "2021-09-27T15:32:31.610863",
     "status": "completed"
    },
    "tags": []
   },
   "source": [
    "###  **Insights:**\n",
    "* Family column can be seen to have better relationship with the survival as compared to SibSp and Parch columns."
   ]
  },
  {
   "cell_type": "code",
   "execution_count": 20,
   "id": "4d045dff",
   "metadata": {
    "execution": {
     "iopub.execute_input": "2021-09-27T15:32:31.779605Z",
     "iopub.status.busy": "2021-09-27T15:32:31.778902Z",
     "iopub.status.idle": "2021-09-27T15:32:31.781645Z",
     "shell.execute_reply": "2021-09-27T15:32:31.782114Z",
     "shell.execute_reply.started": "2021-09-27T14:54:51.874265Z"
    },
    "papermill": {
     "duration": 0.076517,
     "end_time": "2021-09-27T15:32:31.782297",
     "exception": false,
     "start_time": "2021-09-27T15:32:31.705780",
     "status": "completed"
    },
    "tags": []
   },
   "outputs": [
    {
     "data": {
      "text/html": [
       "<div>\n",
       "<style scoped>\n",
       "    .dataframe tbody tr th:only-of-type {\n",
       "        vertical-align: middle;\n",
       "    }\n",
       "\n",
       "    .dataframe tbody tr th {\n",
       "        vertical-align: top;\n",
       "    }\n",
       "\n",
       "    .dataframe thead th {\n",
       "        text-align: right;\n",
       "    }\n",
       "</style>\n",
       "<table border=\"1\" class=\"dataframe\">\n",
       "  <thead>\n",
       "    <tr style=\"text-align: right;\">\n",
       "      <th></th>\n",
       "      <th>Survived</th>\n",
       "      <th>Pclass</th>\n",
       "      <th>Name</th>\n",
       "      <th>Sex</th>\n",
       "      <th>Age</th>\n",
       "      <th>SibSp</th>\n",
       "      <th>Parch</th>\n",
       "      <th>Ticket</th>\n",
       "      <th>Fare</th>\n",
       "      <th>Cabin</th>\n",
       "      <th>Embarked</th>\n",
       "      <th>Family</th>\n",
       "      <th>Title</th>\n",
       "    </tr>\n",
       "    <tr>\n",
       "      <th>PassengerId</th>\n",
       "      <th></th>\n",
       "      <th></th>\n",
       "      <th></th>\n",
       "      <th></th>\n",
       "      <th></th>\n",
       "      <th></th>\n",
       "      <th></th>\n",
       "      <th></th>\n",
       "      <th></th>\n",
       "      <th></th>\n",
       "      <th></th>\n",
       "      <th></th>\n",
       "      <th></th>\n",
       "    </tr>\n",
       "  </thead>\n",
       "  <tbody>\n",
       "    <tr>\n",
       "      <th>353</th>\n",
       "      <td>0</td>\n",
       "      <td>3</td>\n",
       "      <td>Elias, Mr. Tannous</td>\n",
       "      <td>male</td>\n",
       "      <td>15.00</td>\n",
       "      <td>1</td>\n",
       "      <td>1</td>\n",
       "      <td>2695</td>\n",
       "      <td>7.2292</td>\n",
       "      <td>NaN</td>\n",
       "      <td>C</td>\n",
       "      <td>2</td>\n",
       "      <td>Mr</td>\n",
       "    </tr>\n",
       "    <tr>\n",
       "      <th>141</th>\n",
       "      <td>0</td>\n",
       "      <td>3</td>\n",
       "      <td>Boulos, Mrs. Joseph (Sultana)</td>\n",
       "      <td>female</td>\n",
       "      <td>14.25</td>\n",
       "      <td>0</td>\n",
       "      <td>2</td>\n",
       "      <td>2678</td>\n",
       "      <td>15.2458</td>\n",
       "      <td>NaN</td>\n",
       "      <td>C</td>\n",
       "      <td>2</td>\n",
       "      <td>Mrs</td>\n",
       "    </tr>\n",
       "    <tr>\n",
       "      <th>848</th>\n",
       "      <td>0</td>\n",
       "      <td>3</td>\n",
       "      <td>Markoff, Mr. Marin</td>\n",
       "      <td>male</td>\n",
       "      <td>35.00</td>\n",
       "      <td>0</td>\n",
       "      <td>0</td>\n",
       "      <td>349213</td>\n",
       "      <td>7.8958</td>\n",
       "      <td>NaN</td>\n",
       "      <td>C</td>\n",
       "      <td>0</td>\n",
       "      <td>Mr</td>\n",
       "    </tr>\n",
       "    <tr>\n",
       "      <th>366</th>\n",
       "      <td>0</td>\n",
       "      <td>3</td>\n",
       "      <td>Adahl, Mr. Mauritz Nils Martin</td>\n",
       "      <td>male</td>\n",
       "      <td>30.00</td>\n",
       "      <td>0</td>\n",
       "      <td>0</td>\n",
       "      <td>C 7076</td>\n",
       "      <td>7.2500</td>\n",
       "      <td>NaN</td>\n",
       "      <td>S</td>\n",
       "      <td>0</td>\n",
       "      <td>Mr</td>\n",
       "    </tr>\n",
       "    <tr>\n",
       "      <th>521</th>\n",
       "      <td>1</td>\n",
       "      <td>1</td>\n",
       "      <td>Perreault, Miss. Anne</td>\n",
       "      <td>female</td>\n",
       "      <td>30.00</td>\n",
       "      <td>0</td>\n",
       "      <td>0</td>\n",
       "      <td>12749</td>\n",
       "      <td>93.5000</td>\n",
       "      <td>B73</td>\n",
       "      <td>S</td>\n",
       "      <td>0</td>\n",
       "      <td>Miss</td>\n",
       "    </tr>\n",
       "  </tbody>\n",
       "</table>\n",
       "</div>"
      ],
      "text/plain": [
       "             Survived  Pclass                            Name     Sex    Age  \\\n",
       "PassengerId                                                                    \n",
       "353                 0       3              Elias, Mr. Tannous    male  15.00   \n",
       "141                 0       3   Boulos, Mrs. Joseph (Sultana)  female  14.25   \n",
       "848                 0       3              Markoff, Mr. Marin    male  35.00   \n",
       "366                 0       3  Adahl, Mr. Mauritz Nils Martin    male  30.00   \n",
       "521                 1       1           Perreault, Miss. Anne  female  30.00   \n",
       "\n",
       "             SibSp  Parch  Ticket     Fare Cabin Embarked  Family Title  \n",
       "PassengerId                                                              \n",
       "353              1      1    2695   7.2292   NaN        C       2    Mr  \n",
       "141              0      2    2678  15.2458   NaN        C       2   Mrs  \n",
       "848              0      0  349213   7.8958   NaN        C       0    Mr  \n",
       "366              0      0  C 7076   7.2500   NaN        S       0    Mr  \n",
       "521              0      0   12749  93.5000   B73        S       0  Miss  "
      ]
     },
     "execution_count": 20,
     "metadata": {},
     "output_type": "execute_result"
    }
   ],
   "source": [
    "# Extracting the titles from the Name column\n",
    "for df in combined:\n",
    "    df['Title'] = df.Name.str.extract(' ([A-Za-z]+)\\.', expand=False)\n",
    "    df['Title'] = df.Title.apply(lambda title: title if title in ['Mr', 'Mrs', 'Miss', 'Master'] else 'Other')\n",
    "train_df_fe.sample(5)"
   ]
  },
  {
   "cell_type": "code",
   "execution_count": 21,
   "id": "dea2398c",
   "metadata": {
    "execution": {
     "iopub.execute_input": "2021-09-27T15:32:31.880302Z",
     "iopub.status.busy": "2021-09-27T15:32:31.879618Z",
     "iopub.status.idle": "2021-09-27T15:32:32.449386Z",
     "shell.execute_reply": "2021-09-27T15:32:32.448779Z",
     "shell.execute_reply.started": "2021-09-27T14:54:51.898438Z"
    },
    "papermill": {
     "duration": 0.620304,
     "end_time": "2021-09-27T15:32:32.449537",
     "exception": false,
     "start_time": "2021-09-27T15:32:31.829233",
     "status": "completed"
    },
    "tags": []
   },
   "outputs": [
    {
     "data": {
      "image/png": "[encoded data removed]",
      "text/plain": [
       "<Figure size 864x288 with 2 Axes>"
      ]
     },
     "metadata": {
      "needs_background": "light"
     },
     "output_type": "display_data"
    }
   ],
   "source": [
    "# Title distribution and its relation with the survival rate\n",
    "plt.figure(figsize=(12, 4))\n",
    "\n",
    "# Subplot 1\n",
    "plt.subplot(1, 2, 1)\n",
    "x = np.arange(len(train_df_fe.Title.value_counts()))\n",
    "y = train_df_fe.Title.value_counts()\n",
    "vbar = plt.bar(x, y)\n",
    "plt.xticks(x, train_df_fe.Title.value_counts().index)\n",
    "plt.bar_label(vbar)\n",
    "plt.title('Title')\n",
    "\n",
    "# Subplot 2\n",
    "plt.subplot(1,2,2)\n",
    "sns.pointplot(data=train_df_fe, x='Title', y='Survived', estimator=np.mean, capsize=0.05)\n",
    "plt.ylim([0, 1])\n",
    "plt.title('Survival Rate for Title')\n",
    "\n",
    "plt.subplots_adjust()\n",
    "plt.tight_layout()\n",
    "plt.show()"
   ]
  },
  {
   "cell_type": "markdown",
   "id": "77573f26",
   "metadata": {
    "papermill": {
     "duration": 0.048132,
     "end_time": "2021-09-27T15:32:32.546140",
     "exception": false,
     "start_time": "2021-09-27T15:32:32.498008",
     "status": "completed"
    },
    "tags": []
   },
   "source": [
    "###  **Insights:**\n",
    "* Title column also exhibits considerable relationship with the survival."
   ]
  },
  {
   "cell_type": "markdown",
   "id": "1f75c99d",
   "metadata": {
    "papermill": {
     "duration": 0.052741,
     "end_time": "2021-09-27T15:32:32.647742",
     "exception": false,
     "start_time": "2021-09-27T15:32:32.595001",
     "status": "completed"
    },
    "tags": []
   },
   "source": [
    "# Data Preprocessing"
   ]
  },
  {
   "cell_type": "code",
   "execution_count": 22,
   "id": "65fe4122",
   "metadata": {
    "execution": {
     "iopub.execute_input": "2021-09-27T15:32:32.753465Z",
     "iopub.status.busy": "2021-09-27T15:32:32.752667Z",
     "iopub.status.idle": "2021-09-27T15:32:33.341171Z",
     "shell.execute_reply": "2021-09-27T15:32:33.340492Z",
     "shell.execute_reply.started": "2021-09-27T14:54:52.375665Z"
    },
    "papermill": {
     "duration": 0.645257,
     "end_time": "2021-09-27T15:32:33.341320",
     "exception": false,
     "start_time": "2021-09-27T15:32:32.696063",
     "status": "completed"
    },
    "tags": []
   },
   "outputs": [
    {
     "data": {
      "image/png": "[encoded data removed]",
      "text/plain": [
       "<Figure size 576x432 with 2 Axes>"
      ]
     },
     "metadata": {
      "needs_background": "light"
     },
     "output_type": "display_data"
    }
   ],
   "source": [
    "# Multicollinearity Check\n",
    "plt.figure(figsize=(8, 6))\n",
    "corr = train_df_fe.corr()\n",
    "mask = np.triu(np.ones_like(corr, dtype=bool))\n",
    "cmap = sns.diverging_palette(20, 20, as_cmap=True)\n",
    "sns.heatmap(corr, mask=mask, cmap=cmap, vmin=-1, vmax=1, center=0, annot=True, linewidth=0.05, square=True)\n",
    "plt.tight_layout()\n",
    "plt.show()"
   ]
  },
  {
   "cell_type": "markdown",
   "id": "ad8af063",
   "metadata": {
    "papermill": {
     "duration": 0.063886,
     "end_time": "2021-09-27T15:32:33.454572",
     "exception": false,
     "start_time": "2021-09-27T15:32:33.390686",
     "status": "completed"
    },
    "tags": []
   },
   "source": [
    "###  **Insights:**\n",
    "* As Family column is derived from SibSp and Parch columns, they have a significantly high correlation. Therefore, we will use only Family column."
   ]
  },
  {
   "cell_type": "code",
   "execution_count": 23,
   "id": "4932fddc",
   "metadata": {
    "execution": {
     "iopub.execute_input": "2021-09-27T15:32:33.577244Z",
     "iopub.status.busy": "2021-09-27T15:32:33.576556Z",
     "iopub.status.idle": "2021-09-27T15:32:33.588667Z",
     "shell.execute_reply": "2021-09-27T15:32:33.589203Z",
     "shell.execute_reply.started": "2021-09-27T14:54:52.911451Z"
    },
    "papermill": {
     "duration": 0.069995,
     "end_time": "2021-09-27T15:32:33.589370",
     "exception": false,
     "start_time": "2021-09-27T15:32:33.519375",
     "status": "completed"
    },
    "tags": []
   },
   "outputs": [
    {
     "data": {
      "text/html": [
       "<div>\n",
       "<style scoped>\n",
       "    .dataframe tbody tr th:only-of-type {\n",
       "        vertical-align: middle;\n",
       "    }\n",
       "\n",
       "    .dataframe tbody tr th {\n",
       "        vertical-align: top;\n",
       "    }\n",
       "\n",
       "    .dataframe thead th {\n",
       "        text-align: right;\n",
       "    }\n",
       "</style>\n",
       "<table border=\"1\" class=\"dataframe\">\n",
       "  <thead>\n",
       "    <tr style=\"text-align: right;\">\n",
       "      <th></th>\n",
       "      <th>Pclass</th>\n",
       "      <th>Sex</th>\n",
       "      <th>Age</th>\n",
       "      <th>Fare</th>\n",
       "      <th>Embarked</th>\n",
       "      <th>Family</th>\n",
       "      <th>Title</th>\n",
       "    </tr>\n",
       "    <tr>\n",
       "      <th>PassengerId</th>\n",
       "      <th></th>\n",
       "      <th></th>\n",
       "      <th></th>\n",
       "      <th></th>\n",
       "      <th></th>\n",
       "      <th></th>\n",
       "      <th></th>\n",
       "    </tr>\n",
       "  </thead>\n",
       "  <tbody>\n",
       "    <tr>\n",
       "      <th>1</th>\n",
       "      <td>3</td>\n",
       "      <td>male</td>\n",
       "      <td>22.0</td>\n",
       "      <td>7.2500</td>\n",
       "      <td>S</td>\n",
       "      <td>1</td>\n",
       "      <td>Mr</td>\n",
       "    </tr>\n",
       "    <tr>\n",
       "      <th>2</th>\n",
       "      <td>1</td>\n",
       "      <td>female</td>\n",
       "      <td>38.0</td>\n",
       "      <td>71.2833</td>\n",
       "      <td>C</td>\n",
       "      <td>1</td>\n",
       "      <td>Mrs</td>\n",
       "    </tr>\n",
       "    <tr>\n",
       "      <th>3</th>\n",
       "      <td>3</td>\n",
       "      <td>female</td>\n",
       "      <td>26.0</td>\n",
       "      <td>7.9250</td>\n",
       "      <td>S</td>\n",
       "      <td>0</td>\n",
       "      <td>Miss</td>\n",
       "    </tr>\n",
       "    <tr>\n",
       "      <th>4</th>\n",
       "      <td>1</td>\n",
       "      <td>female</td>\n",
       "      <td>35.0</td>\n",
       "      <td>53.1000</td>\n",
       "      <td>S</td>\n",
       "      <td>1</td>\n",
       "      <td>Mrs</td>\n",
       "    </tr>\n",
       "    <tr>\n",
       "      <th>5</th>\n",
       "      <td>3</td>\n",
       "      <td>male</td>\n",
       "      <td>35.0</td>\n",
       "      <td>8.0500</td>\n",
       "      <td>S</td>\n",
       "      <td>0</td>\n",
       "      <td>Mr</td>\n",
       "    </tr>\n",
       "  </tbody>\n",
       "</table>\n",
       "</div>"
      ],
      "text/plain": [
       "             Pclass     Sex   Age     Fare Embarked  Family Title\n",
       "PassengerId                                                      \n",
       "1                 3    male  22.0   7.2500        S       1    Mr\n",
       "2                 1  female  38.0  71.2833        C       1   Mrs\n",
       "3                 3  female  26.0   7.9250        S       0  Miss\n",
       "4                 1  female  35.0  53.1000        S       1   Mrs\n",
       "5                 3    male  35.0   8.0500        S       0    Mr"
      ]
     },
     "execution_count": 23,
     "metadata": {},
     "output_type": "execute_result"
    }
   ],
   "source": [
    "# Feature Selection\n",
    "x_train_features = train_df_fe[['Pclass', 'Sex', 'Age', 'Fare', 'Embarked', 'Family', 'Title']]\n",
    "x_test_features = test_df_fe[['Pclass', 'Sex', 'Age', 'Fare', 'Embarked', 'Family', 'Title']]\n",
    "y_train = train_df_fe['Survived']\n",
    "x_train_features.head()"
   ]
  },
  {
   "cell_type": "code",
   "execution_count": 24,
   "id": "6c50271e",
   "metadata": {
    "execution": {
     "iopub.execute_input": "2021-09-27T15:32:33.694815Z",
     "iopub.status.busy": "2021-09-27T15:32:33.694144Z",
     "iopub.status.idle": "2021-09-27T15:32:33.710960Z",
     "shell.execute_reply": "2021-09-27T15:32:33.711522Z",
     "shell.execute_reply.started": "2021-09-27T14:54:52.930149Z"
    },
    "papermill": {
     "duration": 0.07124,
     "end_time": "2021-09-27T15:32:33.711700",
     "exception": false,
     "start_time": "2021-09-27T15:32:33.640460",
     "status": "completed"
    },
    "tags": []
   },
   "outputs": [
    {
     "data": {
      "text/html": [
       "<div>\n",
       "<style scoped>\n",
       "    .dataframe tbody tr th:only-of-type {\n",
       "        vertical-align: middle;\n",
       "    }\n",
       "\n",
       "    .dataframe tbody tr th {\n",
       "        vertical-align: top;\n",
       "    }\n",
       "\n",
       "    .dataframe thead th {\n",
       "        text-align: right;\n",
       "    }\n",
       "</style>\n",
       "<table border=\"1\" class=\"dataframe\">\n",
       "  <thead>\n",
       "    <tr style=\"text-align: right;\">\n",
       "      <th></th>\n",
       "      <th>Pclass</th>\n",
       "      <th>Sex</th>\n",
       "      <th>Age</th>\n",
       "      <th>Fare</th>\n",
       "      <th>Embarked</th>\n",
       "      <th>Family</th>\n",
       "      <th>Title</th>\n",
       "    </tr>\n",
       "    <tr>\n",
       "      <th>PassengerId</th>\n",
       "      <th></th>\n",
       "      <th></th>\n",
       "      <th></th>\n",
       "      <th></th>\n",
       "      <th></th>\n",
       "      <th></th>\n",
       "      <th></th>\n",
       "    </tr>\n",
       "  </thead>\n",
       "  <tbody>\n",
       "    <tr>\n",
       "      <th>1</th>\n",
       "      <td>3</td>\n",
       "      <td>0</td>\n",
       "      <td>22.0</td>\n",
       "      <td>7.2500</td>\n",
       "      <td>S</td>\n",
       "      <td>1</td>\n",
       "      <td>Mr</td>\n",
       "    </tr>\n",
       "    <tr>\n",
       "      <th>2</th>\n",
       "      <td>1</td>\n",
       "      <td>1</td>\n",
       "      <td>38.0</td>\n",
       "      <td>71.2833</td>\n",
       "      <td>C</td>\n",
       "      <td>1</td>\n",
       "      <td>Mrs</td>\n",
       "    </tr>\n",
       "    <tr>\n",
       "      <th>3</th>\n",
       "      <td>3</td>\n",
       "      <td>1</td>\n",
       "      <td>26.0</td>\n",
       "      <td>7.9250</td>\n",
       "      <td>S</td>\n",
       "      <td>0</td>\n",
       "      <td>Miss</td>\n",
       "    </tr>\n",
       "    <tr>\n",
       "      <th>4</th>\n",
       "      <td>1</td>\n",
       "      <td>1</td>\n",
       "      <td>35.0</td>\n",
       "      <td>53.1000</td>\n",
       "      <td>S</td>\n",
       "      <td>1</td>\n",
       "      <td>Mrs</td>\n",
       "    </tr>\n",
       "    <tr>\n",
       "      <th>5</th>\n",
       "      <td>3</td>\n",
       "      <td>0</td>\n",
       "      <td>35.0</td>\n",
       "      <td>8.0500</td>\n",
       "      <td>S</td>\n",
       "      <td>0</td>\n",
       "      <td>Mr</td>\n",
       "    </tr>\n",
       "  </tbody>\n",
       "</table>\n",
       "</div>"
      ],
      "text/plain": [
       "             Pclass  Sex   Age     Fare Embarked  Family Title\n",
       "PassengerId                                                   \n",
       "1                 3    0  22.0   7.2500        S       1    Mr\n",
       "2                 1    1  38.0  71.2833        C       1   Mrs\n",
       "3                 3    1  26.0   7.9250        S       0  Miss\n",
       "4                 1    1  35.0  53.1000        S       1   Mrs\n",
       "5                 3    0  35.0   8.0500        S       0    Mr"
      ]
     },
     "execution_count": 24,
     "metadata": {},
     "output_type": "execute_result"
    }
   ],
   "source": [
    "# Label Encoding\n",
    "x_train_encoded1 = x_train_features.replace({'Sex': {'male':0, 'female':1}})\n",
    "x_test_encoded1 = x_test_features.replace({'Sex': {'male':0, 'female':1}})\n",
    "x_train_encoded1.head()"
   ]
  },
  {
   "cell_type": "code",
   "execution_count": 25,
   "id": "30c99416",
   "metadata": {
    "execution": {
     "iopub.execute_input": "2021-09-27T15:32:33.817675Z",
     "iopub.status.busy": "2021-09-27T15:32:33.816925Z",
     "iopub.status.idle": "2021-09-27T15:32:33.839124Z",
     "shell.execute_reply": "2021-09-27T15:32:33.839651Z",
     "shell.execute_reply.started": "2021-09-27T14:54:52.954376Z"
    },
    "papermill": {
     "duration": 0.07663,
     "end_time": "2021-09-27T15:32:33.839841",
     "exception": false,
     "start_time": "2021-09-27T15:32:33.763211",
     "status": "completed"
    },
    "tags": []
   },
   "outputs": [
    {
     "data": {
      "text/html": [
       "<div>\n",
       "<style scoped>\n",
       "    .dataframe tbody tr th:only-of-type {\n",
       "        vertical-align: middle;\n",
       "    }\n",
       "\n",
       "    .dataframe tbody tr th {\n",
       "        vertical-align: top;\n",
       "    }\n",
       "\n",
       "    .dataframe thead th {\n",
       "        text-align: right;\n",
       "    }\n",
       "</style>\n",
       "<table border=\"1\" class=\"dataframe\">\n",
       "  <thead>\n",
       "    <tr style=\"text-align: right;\">\n",
       "      <th></th>\n",
       "      <th>Pclass</th>\n",
       "      <th>Sex</th>\n",
       "      <th>Age</th>\n",
       "      <th>Fare</th>\n",
       "      <th>Family</th>\n",
       "      <th>Embarked_Q</th>\n",
       "      <th>Embarked_S</th>\n",
       "      <th>Title_Miss</th>\n",
       "      <th>Title_Mr</th>\n",
       "      <th>Title_Mrs</th>\n",
       "      <th>Title_Other</th>\n",
       "    </tr>\n",
       "    <tr>\n",
       "      <th>PassengerId</th>\n",
       "      <th></th>\n",
       "      <th></th>\n",
       "      <th></th>\n",
       "      <th></th>\n",
       "      <th></th>\n",
       "      <th></th>\n",
       "      <th></th>\n",
       "      <th></th>\n",
       "      <th></th>\n",
       "      <th></th>\n",
       "      <th></th>\n",
       "    </tr>\n",
       "  </thead>\n",
       "  <tbody>\n",
       "    <tr>\n",
       "      <th>1</th>\n",
       "      <td>3</td>\n",
       "      <td>0</td>\n",
       "      <td>22.0</td>\n",
       "      <td>7.2500</td>\n",
       "      <td>1</td>\n",
       "      <td>0</td>\n",
       "      <td>1</td>\n",
       "      <td>0</td>\n",
       "      <td>1</td>\n",
       "      <td>0</td>\n",
       "      <td>0</td>\n",
       "    </tr>\n",
       "    <tr>\n",
       "      <th>2</th>\n",
       "      <td>1</td>\n",
       "      <td>1</td>\n",
       "      <td>38.0</td>\n",
       "      <td>71.2833</td>\n",
       "      <td>1</td>\n",
       "      <td>0</td>\n",
       "      <td>0</td>\n",
       "      <td>0</td>\n",
       "      <td>0</td>\n",
       "      <td>1</td>\n",
       "      <td>0</td>\n",
       "    </tr>\n",
       "    <tr>\n",
       "      <th>3</th>\n",
       "      <td>3</td>\n",
       "      <td>1</td>\n",
       "      <td>26.0</td>\n",
       "      <td>7.9250</td>\n",
       "      <td>0</td>\n",
       "      <td>0</td>\n",
       "      <td>1</td>\n",
       "      <td>1</td>\n",
       "      <td>0</td>\n",
       "      <td>0</td>\n",
       "      <td>0</td>\n",
       "    </tr>\n",
       "    <tr>\n",
       "      <th>4</th>\n",
       "      <td>1</td>\n",
       "      <td>1</td>\n",
       "      <td>35.0</td>\n",
       "      <td>53.1000</td>\n",
       "      <td>1</td>\n",
       "      <td>0</td>\n",
       "      <td>1</td>\n",
       "      <td>0</td>\n",
       "      <td>0</td>\n",
       "      <td>1</td>\n",
       "      <td>0</td>\n",
       "    </tr>\n",
       "    <tr>\n",
       "      <th>5</th>\n",
       "      <td>3</td>\n",
       "      <td>0</td>\n",
       "      <td>35.0</td>\n",
       "      <td>8.0500</td>\n",
       "      <td>0</td>\n",
       "      <td>0</td>\n",
       "      <td>1</td>\n",
       "      <td>0</td>\n",
       "      <td>1</td>\n",
       "      <td>0</td>\n",
       "      <td>0</td>\n",
       "    </tr>\n",
       "  </tbody>\n",
       "</table>\n",
       "</div>"
      ],
      "text/plain": [
       "             Pclass  Sex   Age     Fare  Family  Embarked_Q  Embarked_S  \\\n",
       "PassengerId                                                               \n",
       "1                 3    0  22.0   7.2500       1           0           1   \n",
       "2                 1    1  38.0  71.2833       1           0           0   \n",
       "3                 3    1  26.0   7.9250       0           0           1   \n",
       "4                 1    1  35.0  53.1000       1           0           1   \n",
       "5                 3    0  35.0   8.0500       0           0           1   \n",
       "\n",
       "             Title_Miss  Title_Mr  Title_Mrs  Title_Other  \n",
       "PassengerId                                                \n",
       "1                     0         1          0            0  \n",
       "2                     0         0          1            0  \n",
       "3                     1         0          0            0  \n",
       "4                     0         0          1            0  \n",
       "5                     0         1          0            0  "
      ]
     },
     "execution_count": 25,
     "metadata": {},
     "output_type": "execute_result"
    }
   ],
   "source": [
    "# One-Hot Encoding\n",
    "x_train_encoded2 = pd.get_dummies(x_train_encoded1, columns=['Embarked', 'Title'], drop_first=True)\n",
    "x_test_encoded2 = pd.get_dummies(x_test_encoded1, columns=['Embarked', 'Title'], drop_first=True)\n",
    "x_train_encoded2.head()"
   ]
  },
  {
   "cell_type": "code",
   "execution_count": 26,
   "id": "7fa4a83f",
   "metadata": {
    "execution": {
     "iopub.execute_input": "2021-09-27T15:32:33.945896Z",
     "iopub.status.busy": "2021-09-27T15:32:33.945100Z",
     "iopub.status.idle": "2021-09-27T15:32:33.953198Z",
     "shell.execute_reply": "2021-09-27T15:32:33.952542Z",
     "shell.execute_reply.started": "2021-09-27T14:54:52.988286Z"
    },
    "papermill": {
     "duration": 0.062243,
     "end_time": "2021-09-27T15:32:33.953340",
     "exception": false,
     "start_time": "2021-09-27T15:32:33.891097",
     "status": "completed"
    },
    "tags": []
   },
   "outputs": [
    {
     "data": {
      "text/plain": [
       "array([ 3.  ,  0.  , 22.  ,  7.25,  1.  ,  0.  ,  1.  ,  0.  ,  1.  ,\n",
       "        0.  ,  0.  ])"
      ]
     },
     "execution_count": 26,
     "metadata": {},
     "output_type": "execute_result"
    }
   ],
   "source": [
    "# Converting DataFrames to Arrays\n",
    "x_train_arr = x_train_encoded2.values\n",
    "x_test_arr = x_test_encoded2.values\n",
    "y_train_arr = y_train.values\n",
    "x_train_arr[0]"
   ]
  },
  {
   "cell_type": "code",
   "execution_count": 27,
   "id": "d173673a",
   "metadata": {
    "execution": {
     "iopub.execute_input": "2021-09-27T15:32:34.062434Z",
     "iopub.status.busy": "2021-09-27T15:32:34.061742Z",
     "iopub.status.idle": "2021-09-27T15:32:34.068686Z",
     "shell.execute_reply": "2021-09-27T15:32:34.068133Z",
     "shell.execute_reply.started": "2021-09-27T14:54:52.997665Z"
    },
    "papermill": {
     "duration": 0.063846,
     "end_time": "2021-09-27T15:32:34.068872",
     "exception": false,
     "start_time": "2021-09-27T15:32:34.005026",
     "status": "completed"
    },
    "tags": []
   },
   "outputs": [
    {
     "data": {
      "text/plain": [
       "array([ 0.82737724, -0.73769513, -0.53366019, -0.50244517,  0.2777598 ,\n",
       "       -0.30756234,  0.61583843, -0.50665528,  0.85053175, -0.4039621 ,\n",
       "       -0.1767767 ])"
      ]
     },
     "execution_count": 27,
     "metadata": {},
     "output_type": "execute_result"
    }
   ],
   "source": [
    "# Standardization\n",
    "scaler = StandardScaler()\n",
    "x_train_norm = scaler.fit_transform(x_train_arr)\n",
    "x_test_norm = scaler.transform(x_test_arr)\n",
    "\n",
    "x_train_norm[0]"
   ]
  },
  {
   "cell_type": "markdown",
   "id": "d367d0b1",
   "metadata": {
    "papermill": {
     "duration": 0.05165,
     "end_time": "2021-09-27T15:32:34.172211",
     "exception": false,
     "start_time": "2021-09-27T15:32:34.120561",
     "status": "completed"
    },
    "tags": []
   },
   "source": [
    "# Prediction using ML Models"
   ]
  },
  {
   "cell_type": "code",
   "execution_count": 28,
   "id": "ef00431a",
   "metadata": {
    "execution": {
     "iopub.execute_input": "2021-09-27T15:32:34.284620Z",
     "iopub.status.busy": "2021-09-27T15:32:34.283879Z",
     "iopub.status.idle": "2021-09-27T15:32:35.218179Z",
     "shell.execute_reply": "2021-09-27T15:32:35.217614Z",
     "shell.execute_reply.started": "2021-09-27T15:03:42.749417Z"
    },
    "papermill": {
     "duration": 0.994106,
     "end_time": "2021-09-27T15:32:35.218357",
     "exception": false,
     "start_time": "2021-09-27T15:32:34.224251",
     "status": "completed"
    },
    "tags": []
   },
   "outputs": [
    {
     "name": "stdout",
     "output_type": "stream",
     "text": [
      "KNN: Maximum accuracy is 0.813 at k=11\n"
     ]
    },
    {
     "data": {
      "image/png": "[encoded data removed]",
      "text/plain": [
       "<Figure size 432x288 with 1 Axes>"
      ]
     },
     "metadata": {
      "needs_background": "light"
     },
     "output_type": "display_data"
    }
   ],
   "source": [
    "# K-Nearest Neighbors Classifier (KNN)\n",
    "cv = KFold(n_splits=10, random_state=1, shuffle=True)\n",
    "\n",
    "k_values = []\n",
    "knc_accuracy = []\n",
    "for k in range(1, 20, 2):\n",
    "    knc = KNeighborsClassifier(n_neighbors=k)\n",
    "    scores_knc = cross_val_score(knc, x_train_norm, y_train_arr, cv=cv)\n",
    "    knc_accuracy.append(scores_knc.mean())\n",
    "    k_values.append(k)\n",
    "print(f'KNN: Maximum accuracy is {np.round(max(knc_accuracy), 3)} at k={k_values[knc_accuracy.index(max(knc_accuracy))]}')\n",
    "\n",
    "plt.plot(k_values, knc_accuracy)\n",
    "plt.xticks(k_values)\n",
    "plt.show()"
   ]
  },
  {
   "cell_type": "code",
   "execution_count": 29,
   "id": "74529ee5",
   "metadata": {
    "execution": {
     "iopub.execute_input": "2021-09-27T15:32:35.327712Z",
     "iopub.status.busy": "2021-09-27T15:32:35.327023Z",
     "iopub.status.idle": "2021-09-27T15:32:38.098065Z",
     "shell.execute_reply": "2021-09-27T15:32:38.097423Z",
     "shell.execute_reply.started": "2021-09-27T15:05:53.073885Z"
    },
    "papermill": {
     "duration": 2.826829,
     "end_time": "2021-09-27T15:32:38.098237",
     "exception": false,
     "start_time": "2021-09-27T15:32:35.271408",
     "status": "completed"
    },
    "tags": []
   },
   "outputs": [
    {
     "name": "stdout",
     "output_type": "stream",
     "text": [
      "Logistic Regression: Accuracy=0.822 and Standard Deviation=0.04\n",
      "Support Vector Classifier: Accuracy=0.82 and Standard Deviation=0.042\n",
      "Decision Tree Classifier: Accuracy=0.796 and Standard Deviation=0.041\n",
      "Random Forest Classifier: Accuracy=0.804 and Standard Deviation=0.037\n",
      "Gaussian Naive Bayes Classifier: Accuracy=0.771 and Standard Deviation=0.032\n"
     ]
    }
   ],
   "source": [
    "# Logistic Regression\n",
    "lr = LogisticRegression()\n",
    "scores_lr = cross_val_score(lr, x_train_norm, y_train_arr, cv=cv)\n",
    "print(f'Logistic Regression: Accuracy={np.round(scores_lr.mean(), 3)} and Standard Deviation={np.round(scores_lr.std(), 3)}')\n",
    "\n",
    "# Support Vector Classifier\n",
    "svc = SVC()\n",
    "scores_svc = cross_val_score(svc, x_train_norm, y_train_arr, cv=cv)\n",
    "print(f'Support Vector Classifier: Accuracy={np.round(scores_svc.mean(), 3)} and Standard Deviation={np.round(scores_svc.std(), 3)}')\n",
    "\n",
    "# Decision Tree Classifier\n",
    "dtc = DecisionTreeClassifier()\n",
    "scores_dtc = cross_val_score(dtc, x_train_norm, y_train_arr, cv=cv)\n",
    "print(f'Decision Tree Classifier: Accuracy={np.round(scores_dtc.mean(), 3)} and Standard Deviation={np.round(scores_dtc.std(), 3)}')\n",
    "\n",
    "# Random Forest Classifier\n",
    "rfc = RandomForestClassifier()\n",
    "scores_rfc = cross_val_score(rfc, x_train_norm, y_train_arr, cv=cv)\n",
    "print(f'Random Forest Classifier: Accuracy={np.round(scores_rfc.mean(), 3)} and Standard Deviation={np.round(scores_rfc.std(), 3)}')\n",
    "\n",
    "# Gaussian Naive Bayes Classifier\n",
    "gnb = GaussianNB()\n",
    "scores_gnb = cross_val_score(gnb, x_train_norm, y_train_arr, cv=cv)\n",
    "print(f'Gaussian Naive Bayes Classifier: Accuracy={np.round(scores_gnb.mean(), 3)} and Standard Deviation={np.round(scores_gnb.std(), 3)}')"
   ]
  },
  {
   "cell_type": "code",
   "execution_count": 30,
   "id": "d1cad06e",
   "metadata": {
    "execution": {
     "iopub.execute_input": "2021-09-27T15:32:38.209362Z",
     "iopub.status.busy": "2021-09-27T15:32:38.208704Z",
     "iopub.status.idle": "2021-09-27T15:32:38.251537Z",
     "shell.execute_reply": "2021-09-27T15:32:38.251999Z",
     "shell.execute_reply.started": "2021-09-27T14:54:56.036326Z"
    },
    "papermill": {
     "duration": 0.099957,
     "end_time": "2021-09-27T15:32:38.252194",
     "exception": false,
     "start_time": "2021-09-27T15:32:38.152237",
     "status": "completed"
    },
    "tags": []
   },
   "outputs": [
    {
     "name": "stdout",
     "output_type": "stream",
     "text": [
      "Submission is successful.\n"
     ]
    }
   ],
   "source": [
    "# Predicting the test data labels using Support Vector Classifier\n",
    "svc.fit(x_train_norm, y_train_arr)\n",
    "y_predicted = svc.predict(x_test_norm)\n",
    "\n",
    "# Submitting predictions\n",
    "submission = pd.DataFrame({'PassengerId': test_df.index, 'Survived': y_predicted})\n",
    "submission.to_csv('Titanic Submission.csv', index=False)\n",
    "print('Submission is successful.')"
   ]
  }
 ],
 "metadata": {
  "kernelspec": {
   "display_name": "Python 3",
   "language": "python",
   "name": "python3"
  },
  "language_info": {
   "codemirror_mode": {
    "name": "ipython",
    "version": 3
   },
   "file_extension": ".py",
   "mimetype": "text/x-python",
   "name": "python",
   "nbconvert_exporter": "python",
   "pygments_lexer": "ipython3",
   "version": "3.8.8"
  },
  "papermill": {
   "default_parameters": {},
   "duration": 25.976162,
   "end_time": "2021-09-27T15:32:39.633455",
   "environment_variables": {},
   "exception": null,
   "input_path": "__notebook__.ipynb",
   "output_path": "__notebook__.ipynb",
   "parameters": {},
   "start_time": "2021-09-27T15:32:13.657293",
   "version": "2.3.3"
  }
 },
 "nbformat": 4,
 "nbformat_minor": 5
}
